{
  "nbformat": 4,
  "nbformat_minor": 0,
  "metadata": {
    "colab": {
      "provenance": [],
      "collapsed_sections": [
        "SdEtOAReB94p",
        "L8KJVFATCA2c"
      ],
      "mount_file_id": "1ASfimmZtmSHjJDpArQAmgHChRbX0Ws6X",
      "authorship_tag": "ABX9TyM3nUoFzy9y10JCmcjIgLxS",
      "include_colab_link": true
    },
    "kernelspec": {
      "name": "python3",
      "display_name": "Python 3"
    },
    "language_info": {
      "name": "python"
    }
  },
  "cells": [
    {
      "cell_type": "markdown",
      "metadata": {
        "id": "view-in-github",
        "colab_type": "text"
      },
      "source": [
        "<a href=\"https://colab.research.google.com/github/ikrarmuhamad/nlp-classification-product-category/blob/main/e_commerce_product_categories.ipynb\" target=\"_parent\"><img src=\"https://colab.research.google.com/assets/colab-badge.svg\" alt=\"Open In Colab\"/></a>"
      ]
    },
    {
      "cell_type": "markdown",
      "source": [
        "#Import Library"
      ],
      "metadata": {
        "id": "SdEtOAReB94p"
      }
    },
    {
      "cell_type": "code",
      "execution_count": null,
      "metadata": {
        "id": "wavIMPhh3mrM"
      },
      "outputs": [],
      "source": [
        "import tensorflow as tf\n",
        "import matplotlib.pyplot as plt\n",
        "import pandas as pd\n",
        "import numpy as np\n",
        "import re\n",
        "import nltk"
      ]
    },
    {
      "cell_type": "code",
      "source": [
        "import zipfile\n",
        "zip = zipfile.ZipFile('/content/drive/MyDrive/Data/Dataset Project/ecommerceDataset.zip', 'r')\n",
        "zip.extractall()\n",
        "zip.close()"
      ],
      "metadata": {
        "id": "XtoHYZ3N4-75"
      },
      "execution_count": null,
      "outputs": []
    },
    {
      "cell_type": "code",
      "source": [
        "df = pd.read_csv('ecommerceDataset.csv', header=None)"
      ],
      "metadata": {
        "id": "_ljYJQHu8NR5"
      },
      "execution_count": null,
      "outputs": []
    },
    {
      "cell_type": "code",
      "source": [
        "df.rename(columns = {0 : 'label',\n",
        "                     1 : 'text'},\n",
        "          inplace = True)"
      ],
      "metadata": {
        "id": "KyYcepA_8i2Q"
      },
      "execution_count": null,
      "outputs": []
    },
    {
      "cell_type": "markdown",
      "source": [
        "#Data Overview"
      ],
      "metadata": {
        "id": "L8KJVFATCA2c"
      }
    },
    {
      "cell_type": "code",
      "source": [
        "df.head()"
      ],
      "metadata": {
        "colab": {
          "base_uri": "https://localhost:8080/"
        },
        "id": "SEGPrMUb8j0e",
        "outputId": "e278f39b-606e-4b6b-c3ea-0a462009d401"
      },
      "execution_count": null,
      "outputs": [
        {
          "output_type": "execute_result",
          "data": {
            "text/plain": [
              "       label                                               text\n",
              "0  Household  Paper Plane Design Framed Wall Hanging Motivat...\n",
              "1  Household  SAF 'Floral' Framed Painting (Wood, 30 inch x ...\n",
              "2  Household  SAF 'UV Textured Modern Art Print Framed' Pain...\n",
              "3  Household  SAF Flower Print Framed Painting (Synthetic, 1...\n",
              "4  Household  Incredible Gifts India Wooden Happy Birthday U..."
            ],
            "text/html": [
              "\n",
              "  <div id=\"df-e5ebd668-b703-49e8-b953-dcff403ebd18\" class=\"colab-df-container\">\n",
              "    <div>\n",
              "<style scoped>\n",
              "    .dataframe tbody tr th:only-of-type {\n",
              "        vertical-align: middle;\n",
              "    }\n",
              "\n",
              "    .dataframe tbody tr th {\n",
              "        vertical-align: top;\n",
              "    }\n",
              "\n",
              "    .dataframe thead th {\n",
              "        text-align: right;\n",
              "    }\n",
              "</style>\n",
              "<table border=\"1\" class=\"dataframe\">\n",
              "  <thead>\n",
              "    <tr style=\"text-align: right;\">\n",
              "      <th></th>\n",
              "      <th>label</th>\n",
              "      <th>text</th>\n",
              "    </tr>\n",
              "  </thead>\n",
              "  <tbody>\n",
              "    <tr>\n",
              "      <th>0</th>\n",
              "      <td>Household</td>\n",
              "      <td>Paper Plane Design Framed Wall Hanging Motivat...</td>\n",
              "    </tr>\n",
              "    <tr>\n",
              "      <th>1</th>\n",
              "      <td>Household</td>\n",
              "      <td>SAF 'Floral' Framed Painting (Wood, 30 inch x ...</td>\n",
              "    </tr>\n",
              "    <tr>\n",
              "      <th>2</th>\n",
              "      <td>Household</td>\n",
              "      <td>SAF 'UV Textured Modern Art Print Framed' Pain...</td>\n",
              "    </tr>\n",
              "    <tr>\n",
              "      <th>3</th>\n",
              "      <td>Household</td>\n",
              "      <td>SAF Flower Print Framed Painting (Synthetic, 1...</td>\n",
              "    </tr>\n",
              "    <tr>\n",
              "      <th>4</th>\n",
              "      <td>Household</td>\n",
              "      <td>Incredible Gifts India Wooden Happy Birthday U...</td>\n",
              "    </tr>\n",
              "  </tbody>\n",
              "</table>\n",
              "</div>\n",
              "    <div class=\"colab-df-buttons\">\n",
              "\n",
              "  <div class=\"colab-df-container\">\n",
              "    <button class=\"colab-df-convert\" onclick=\"convertToInteractive('df-e5ebd668-b703-49e8-b953-dcff403ebd18')\"\n",
              "            title=\"Convert this dataframe to an interactive table.\"\n",
              "            style=\"display:none;\">\n",
              "\n",
              "  <svg xmlns=\"http://www.w3.org/2000/svg\" height=\"24px\" viewBox=\"0 -960 960 960\">\n",
              "    <path d=\"M120-120v-720h720v720H120Zm60-500h600v-160H180v160Zm220 220h160v-160H400v160Zm0 220h160v-160H400v160ZM180-400h160v-160H180v160Zm440 0h160v-160H620v160ZM180-180h160v-160H180v160Zm440 0h160v-160H620v160Z\"/>\n",
              "  </svg>\n",
              "    </button>\n",
              "\n",
              "  <style>\n",
              "    .colab-df-container {\n",
              "      display:flex;\n",
              "      gap: 12px;\n",
              "    }\n",
              "\n",
              "    .colab-df-convert {\n",
              "      background-color: #E8F0FE;\n",
              "      border: none;\n",
              "      border-radius: 50%;\n",
              "      cursor: pointer;\n",
              "      display: none;\n",
              "      fill: #1967D2;\n",
              "      height: 32px;\n",
              "      padding: 0 0 0 0;\n",
              "      width: 32px;\n",
              "    }\n",
              "\n",
              "    .colab-df-convert:hover {\n",
              "      background-color: #E2EBFA;\n",
              "      box-shadow: 0px 1px 2px rgba(60, 64, 67, 0.3), 0px 1px 3px 1px rgba(60, 64, 67, 0.15);\n",
              "      fill: #174EA6;\n",
              "    }\n",
              "\n",
              "    .colab-df-buttons div {\n",
              "      margin-bottom: 4px;\n",
              "    }\n",
              "\n",
              "    [theme=dark] .colab-df-convert {\n",
              "      background-color: #3B4455;\n",
              "      fill: #D2E3FC;\n",
              "    }\n",
              "\n",
              "    [theme=dark] .colab-df-convert:hover {\n",
              "      background-color: #434B5C;\n",
              "      box-shadow: 0px 1px 3px 1px rgba(0, 0, 0, 0.15);\n",
              "      filter: drop-shadow(0px 1px 2px rgba(0, 0, 0, 0.3));\n",
              "      fill: #FFFFFF;\n",
              "    }\n",
              "  </style>\n",
              "\n",
              "    <script>\n",
              "      const buttonEl =\n",
              "        document.querySelector('#df-e5ebd668-b703-49e8-b953-dcff403ebd18 button.colab-df-convert');\n",
              "      buttonEl.style.display =\n",
              "        google.colab.kernel.accessAllowed ? 'block' : 'none';\n",
              "\n",
              "      async function convertToInteractive(key) {\n",
              "        const element = document.querySelector('#df-e5ebd668-b703-49e8-b953-dcff403ebd18');\n",
              "        const dataTable =\n",
              "          await google.colab.kernel.invokeFunction('convertToInteractive',\n",
              "                                                    [key], {});\n",
              "        if (!dataTable) return;\n",
              "\n",
              "        const docLinkHtml = 'Like what you see? Visit the ' +\n",
              "          '<a target=\"_blank\" href=https://colab.research.google.com/notebooks/data_table.ipynb>data table notebook</a>'\n",
              "          + ' to learn more about interactive tables.';\n",
              "        element.innerHTML = '';\n",
              "        dataTable['output_type'] = 'display_data';\n",
              "        await google.colab.output.renderOutput(dataTable, element);\n",
              "        const docLink = document.createElement('div');\n",
              "        docLink.innerHTML = docLinkHtml;\n",
              "        element.appendChild(docLink);\n",
              "      }\n",
              "    </script>\n",
              "  </div>\n",
              "\n",
              "\n",
              "<div id=\"df-8bb628e7-14c8-49ab-a598-7bb81896eab9\">\n",
              "  <button class=\"colab-df-quickchart\" onclick=\"quickchart('df-8bb628e7-14c8-49ab-a598-7bb81896eab9')\"\n",
              "            title=\"Suggest charts.\"\n",
              "            style=\"display:none;\">\n",
              "\n",
              "<svg xmlns=\"http://www.w3.org/2000/svg\" height=\"24px\"viewBox=\"0 0 24 24\"\n",
              "     width=\"24px\">\n",
              "    <g>\n",
              "        <path d=\"M19 3H5c-1.1 0-2 .9-2 2v14c0 1.1.9 2 2 2h14c1.1 0 2-.9 2-2V5c0-1.1-.9-2-2-2zM9 17H7v-7h2v7zm4 0h-2V7h2v10zm4 0h-2v-4h2v4z\"/>\n",
              "    </g>\n",
              "</svg>\n",
              "  </button>\n",
              "\n",
              "<style>\n",
              "  .colab-df-quickchart {\n",
              "      --bg-color: #E8F0FE;\n",
              "      --fill-color: #1967D2;\n",
              "      --hover-bg-color: #E2EBFA;\n",
              "      --hover-fill-color: #174EA6;\n",
              "      --disabled-fill-color: #AAA;\n",
              "      --disabled-bg-color: #DDD;\n",
              "  }\n",
              "\n",
              "  [theme=dark] .colab-df-quickchart {\n",
              "      --bg-color: #3B4455;\n",
              "      --fill-color: #D2E3FC;\n",
              "      --hover-bg-color: #434B5C;\n",
              "      --hover-fill-color: #FFFFFF;\n",
              "      --disabled-bg-color: #3B4455;\n",
              "      --disabled-fill-color: #666;\n",
              "  }\n",
              "\n",
              "  .colab-df-quickchart {\n",
              "    background-color: var(--bg-color);\n",
              "    border: none;\n",
              "    border-radius: 50%;\n",
              "    cursor: pointer;\n",
              "    display: none;\n",
              "    fill: var(--fill-color);\n",
              "    height: 32px;\n",
              "    padding: 0;\n",
              "    width: 32px;\n",
              "  }\n",
              "\n",
              "  .colab-df-quickchart:hover {\n",
              "    background-color: var(--hover-bg-color);\n",
              "    box-shadow: 0 1px 2px rgba(60, 64, 67, 0.3), 0 1px 3px 1px rgba(60, 64, 67, 0.15);\n",
              "    fill: var(--button-hover-fill-color);\n",
              "  }\n",
              "\n",
              "  .colab-df-quickchart-complete:disabled,\n",
              "  .colab-df-quickchart-complete:disabled:hover {\n",
              "    background-color: var(--disabled-bg-color);\n",
              "    fill: var(--disabled-fill-color);\n",
              "    box-shadow: none;\n",
              "  }\n",
              "\n",
              "  .colab-df-spinner {\n",
              "    border: 2px solid var(--fill-color);\n",
              "    border-color: transparent;\n",
              "    border-bottom-color: var(--fill-color);\n",
              "    animation:\n",
              "      spin 1s steps(1) infinite;\n",
              "  }\n",
              "\n",
              "  @keyframes spin {\n",
              "    0% {\n",
              "      border-color: transparent;\n",
              "      border-bottom-color: var(--fill-color);\n",
              "      border-left-color: var(--fill-color);\n",
              "    }\n",
              "    20% {\n",
              "      border-color: transparent;\n",
              "      border-left-color: var(--fill-color);\n",
              "      border-top-color: var(--fill-color);\n",
              "    }\n",
              "    30% {\n",
              "      border-color: transparent;\n",
              "      border-left-color: var(--fill-color);\n",
              "      border-top-color: var(--fill-color);\n",
              "      border-right-color: var(--fill-color);\n",
              "    }\n",
              "    40% {\n",
              "      border-color: transparent;\n",
              "      border-right-color: var(--fill-color);\n",
              "      border-top-color: var(--fill-color);\n",
              "    }\n",
              "    60% {\n",
              "      border-color: transparent;\n",
              "      border-right-color: var(--fill-color);\n",
              "    }\n",
              "    80% {\n",
              "      border-color: transparent;\n",
              "      border-right-color: var(--fill-color);\n",
              "      border-bottom-color: var(--fill-color);\n",
              "    }\n",
              "    90% {\n",
              "      border-color: transparent;\n",
              "      border-bottom-color: var(--fill-color);\n",
              "    }\n",
              "  }\n",
              "</style>\n",
              "\n",
              "  <script>\n",
              "    async function quickchart(key) {\n",
              "      const quickchartButtonEl =\n",
              "        document.querySelector('#' + key + ' button');\n",
              "      quickchartButtonEl.disabled = true;  // To prevent multiple clicks.\n",
              "      quickchartButtonEl.classList.add('colab-df-spinner');\n",
              "      try {\n",
              "        const charts = await google.colab.kernel.invokeFunction(\n",
              "            'suggestCharts', [key], {});\n",
              "      } catch (error) {\n",
              "        console.error('Error during call to suggestCharts:', error);\n",
              "      }\n",
              "      quickchartButtonEl.classList.remove('colab-df-spinner');\n",
              "      quickchartButtonEl.classList.add('colab-df-quickchart-complete');\n",
              "    }\n",
              "    (() => {\n",
              "      let quickchartButtonEl =\n",
              "        document.querySelector('#df-8bb628e7-14c8-49ab-a598-7bb81896eab9 button');\n",
              "      quickchartButtonEl.style.display =\n",
              "        google.colab.kernel.accessAllowed ? 'block' : 'none';\n",
              "    })();\n",
              "  </script>\n",
              "</div>\n",
              "    </div>\n",
              "  </div>\n"
            ]
          },
          "metadata": {},
          "execution_count": 5
        }
      ]
    },
    {
      "cell_type": "code",
      "source": [
        "df['label'].value_counts(True).plot(kind = 'pie', autopct = '%1.1f%%')"
      ],
      "metadata": {
        "colab": {
          "base_uri": "https://localhost:8080/"
        },
        "id": "lLNkidx3-L2y",
        "outputId": "9f6080fa-f070-4b14-95af-98be498f67a7"
      },
      "execution_count": null,
      "outputs": [
        {
          "output_type": "execute_result",
          "data": {
            "text/plain": [
              "<Axes: ylabel='label'>"
            ]
          },
          "metadata": {},
          "execution_count": 6
        },
        {
          "output_type": "display_data",
          "data": {
            "text/plain": [
              "<Figure size 640x480 with 1 Axes>"
            ],
            "image/png": "[encoded data removed]"
          },
          "metadata": {}
        }
      ]
    },
    {
      "cell_type": "code",
      "source": [
        "df.text[0], df.label[0]"
      ],
      "metadata": {
        "colab": {
          "base_uri": "https://localhost:8080/"
        },
        "id": "vGxYOdgC-O9k",
        "outputId": "e1764302-be90-4ca4-8980-119f4ee7a78e"
      },
      "execution_count": null,
      "outputs": [
        {
          "output_type": "execute_result",
          "data": {
            "text/plain": [
              "('Paper Plane Design Framed Wall Hanging Motivational Office Decor Art Prints (8.7 X 8.7 inch) - Set of 4 Painting made up in synthetic frame with uv textured print which gives multi effects and attracts towards it. This is an special series of paintings which makes your wall very beautiful and gives a royal touch. This painting is ready to hang, you would be proud to possess this unique painting that is a niche apart. We use only the most modern and efficient printing technology on our prints, with only the and inks and precision epson, roland and hp printers. This innovative hd printing technique results in durable and spectacular looking prints of the highest that last a lifetime. We print solely with top-notch 100% inks, to achieve brilliant and true colours. Due to their high level of uv resistance, our prints retain their beautiful colours for many years. Add colour and style to your living space with this digitally printed painting. Some are for pleasure and some for eternal bliss.so bring home this elegant print that is lushed with rich colors that makes it nothing but sheer elegance to be to your friends and family.it would be treasured forever by whoever your lucky recipient is. Liven up your place with these intriguing paintings that are high definition hd graphic digital prints for home, office or any room.',\n",
              " 'Household')"
            ]
          },
          "metadata": {},
          "execution_count": 7
        }
      ]
    },
    {
      "cell_type": "code",
      "source": [
        "import random\n",
        "for i in range(5):\n",
        "  rand = random.choice(range(len(df)))\n",
        "  print(f\"Label : \\n{df.label[rand]}\")\n",
        "  print(f\"Text :\\n{df.text[rand]}\\n\")\n",
        "  print(\"---\")"
      ],
      "metadata": {
        "colab": {
          "base_uri": "https://localhost:8080/"
        },
        "id": "7GtASdCY_8T5",
        "outputId": "a8f42ae9-319f-4149-a661-e9096b6e1b7f"
      },
      "execution_count": null,
      "outputs": [
        {
          "output_type": "stream",
          "name": "stdout",
          "text": [
            "Label : \n",
            "Electronics\n",
            "Text :\n",
            "Zeffcon QXN PRO Remote Shutter Release Bluetooth Camera Control for iOS and Android Smartphone Tablet (Black) Wireless Bluetooth Remote for Mobile Photography The Bluetooth remote allows mobile photographers to capture shots while up to 30 feet from their device. Compatible with IOS and Android (Not compatible with Windows\n",
            "\n",
            "---\n",
            "Label : \n",
            "Household\n",
            "Text :\n",
            "Crompton ACGIH-IHL102 1000-Watt Immersion Water Heater (Black) Style:1000 watts   Crompton greaves immersion water heater 1000watts indicator lamp water level indicator isi cg-ihl 102\n",
            "\n",
            "---\n",
            "Label : \n",
            "Books\n",
            "Text :\n",
            "Bankers' Handbook on Credit Management (IIBF) Bankers’ Handbook on Credit Management is designed keeping in view the specific skill needs of banking professionals in handling the credit portfolio in a bank. Credit is an important business function and credit management is a dynamic subject. The book deals with the credit function of commercial banks covering various aspects such as credit appraisal, analysis of financial statements, interpretation of financial ratios, loan policy, working capital (fund and non-fund) analysis, project/term Loan analysis, credit monitoring, management of impaired assets, etc. Further the concepts and functions of credit management have been explained keeping the practical aspects in focus. Each unit in the book is important and efforts have been made to provide latest developments/ guidelines in the relevant fields to acquire the cutting edge knowledge by the reader.Though the book is meant as a courseware for the Institute’s “Certified Credit Officer Course”, it would be useful to all those who are interested in the credit portfolio function of a bank in the country.\n",
            "\n",
            "---\n",
            "Label : \n",
            "Household\n",
            "Text :\n",
            "Wemex Billie Jean Reading & Study Table Lamp,Matte Black 1.Height Of The Table Lamp(Verified) - 46 Cms 2.Width - 12 Cms.Table Lamp Comes In Black Matte Finishing.The Shade Of The Table Lamp Is Aluminium Which Has Advertisement & New Design Inside The Shade For Bright Light.You Can Use Led Bulbs Or Bulbs In The Shade Which Has To Be Purchased Separately.It Is A Pack Of One.Providing Good Quality Products To You Is Our Concern.Each Product Is Tested & Checked Before Dispatching It From Our End.We Are Wemex & We Care.Overview Ensuring An Optimal Distribution Of Light On The Desk, These Study Lamps Offers A Well-Lit-Up Study Table. These Lamps Not Only Look Stylish But Also Have High Efficiency To Brighten Up The Study Desk. A One Stop-Shop For Home Decor And Furniture, We Sell A Home Product Every 60 Seconds.\n",
            "\n",
            "---\n",
            "Label : \n",
            "Household\n",
            "Text :\n",
            "AmazonBasics Cotton Washcloth/Face Towel - Pack of 24, Multi-Color (Sea Foam Green, Ice Blue, White) Color Name:Seafoam Green, Ice Blue, White   Size:24-count, color:seafoam green, ice blue, white from the manufacturer amazonbasics\n",
            "\n",
            "---\n"
          ]
        }
      ]
    },
    {
      "cell_type": "markdown",
      "source": [
        "#Encoding Label"
      ],
      "metadata": {
        "id": "4O0A9ZxOCGlx"
      }
    },
    {
      "cell_type": "code",
      "source": [
        "df['label'].value_counts()"
      ],
      "metadata": {
        "colab": {
          "base_uri": "https://localhost:8080/"
        },
        "id": "moNPu901EAug",
        "outputId": "4032d1ef-8b98-4c71-ab45-a2f3dbf144ce"
      },
      "execution_count": null,
      "outputs": [
        {
          "output_type": "execute_result",
          "data": {
            "text/plain": [
              "Household                 19313\n",
              "Books                     11820\n",
              "Electronics               10621\n",
              "Clothing & Accessories     8671\n",
              "Name: label, dtype: int64"
            ]
          },
          "metadata": {},
          "execution_count": 9
        }
      ]
    },
    {
      "cell_type": "code",
      "source": [
        "from sklearn.preprocessing import LabelEncoder\n",
        "le = LabelEncoder()\n",
        "le.fit(df['label'])\n",
        "df['label_encode'] = le.fit_transform(df['label'])\n",
        "df['label_encode'].value_counts()"
      ],
      "metadata": {
        "colab": {
          "base_uri": "https://localhost:8080/"
        },
        "id": "P6Pkbn2IMMno",
        "outputId": "2338e06d-f79e-4770-dc38-a2747715e72d"
      },
      "execution_count": null,
      "outputs": [
        {
          "output_type": "execute_result",
          "data": {
            "text/plain": [
              "3    19313\n",
              "0    11820\n",
              "2    10621\n",
              "1     8671\n",
              "Name: label_encode, dtype: int64"
            ]
          },
          "metadata": {},
          "execution_count": 10
        }
      ]
    },
    {
      "cell_type": "code",
      "source": [
        "target_class = ['Books', 'Clothing & Accessories', 'Electronics', 'Household']"
      ],
      "metadata": {
        "id": "j1An8bVzNL5B"
      },
      "execution_count": null,
      "outputs": []
    },
    {
      "cell_type": "markdown",
      "source": [
        "#Data Preprocessing"
      ],
      "metadata": {
        "id": "4P-P3F_zCLU4"
      }
    },
    {
      "cell_type": "code",
      "source": [
        "df"
      ],
      "metadata": {
        "colab": {
          "base_uri": "https://localhost:8080/",
          "height": 423
        },
        "id": "ArAk39FZON4z",
        "outputId": "2d480256-755b-427c-c3e9-617fcc0b9f1c"
      },
      "execution_count": null,
      "outputs": [
        {
          "output_type": "execute_result",
          "data": {
            "text/plain": [
              "             label                                               text  \\\n",
              "0        Household  Paper Plane Design Framed Wall Hanging Motivat...   \n",
              "1        Household  SAF 'Floral' Framed Painting (Wood, 30 inch x ...   \n",
              "2        Household  SAF 'UV Textured Modern Art Print Framed' Pain...   \n",
              "3        Household  SAF Flower Print Framed Painting (Synthetic, 1...   \n",
              "4        Household  Incredible Gifts India Wooden Happy Birthday U...   \n",
              "...            ...                                                ...   \n",
              "50420  Electronics  Strontium MicroSD Class 10 8GB Memory Card (Bl...   \n",
              "50421  Electronics  CrossBeats Wave Waterproof Bluetooth Wireless ...   \n",
              "50422  Electronics  Karbonn Titanium Wind W4 (White) Karbonn Titan...   \n",
              "50423  Electronics  Samsung Guru FM Plus (SM-B110E/D, Black) Colou...   \n",
              "50424  Electronics                   Micromax Canvas Win W121 (White)   \n",
              "\n",
              "       label_encode  \n",
              "0                 3  \n",
              "1                 3  \n",
              "2                 3  \n",
              "3                 3  \n",
              "4                 3  \n",
              "...             ...  \n",
              "50420             2  \n",
              "50421             2  \n",
              "50422             2  \n",
              "50423             2  \n",
              "50424             2  \n",
              "\n",
              "[50425 rows x 3 columns]"
            ],
            "text/html": [
              "\n",
              "  <div id=\"df-9cfb5f25-929f-4e0f-a034-b1407f42632c\" class=\"colab-df-container\">\n",
              "    <div>\n",
              "<style scoped>\n",
              "    .dataframe tbody tr th:only-of-type {\n",
              "        vertical-align: middle;\n",
              "    }\n",
              "\n",
              "    .dataframe tbody tr th {\n",
              "        vertical-align: top;\n",
              "    }\n",
              "\n",
              "    .dataframe thead th {\n",
              "        text-align: right;\n",
              "    }\n",
              "</style>\n",
              "<table border=\"1\" class=\"dataframe\">\n",
              "  <thead>\n",
              "    <tr style=\"text-align: right;\">\n",
              "      <th></th>\n",
              "      <th>label</th>\n",
              "      <th>text</th>\n",
              "      <th>label_encode</th>\n",
              "    </tr>\n",
              "  </thead>\n",
              "  <tbody>\n",
              "    <tr>\n",
              "      <th>0</th>\n",
              "      <td>Household</td>\n",
              "      <td>Paper Plane Design Framed Wall Hanging Motivat...</td>\n",
              "      <td>3</td>\n",
              "    </tr>\n",
              "    <tr>\n",
              "      <th>1</th>\n",
              "      <td>Household</td>\n",
              "      <td>SAF 'Floral' Framed Painting (Wood, 30 inch x ...</td>\n",
              "      <td>3</td>\n",
              "    </tr>\n",
              "    <tr>\n",
              "      <th>2</th>\n",
              "      <td>Household</td>\n",
              "      <td>SAF 'UV Textured Modern Art Print Framed' Pain...</td>\n",
              "      <td>3</td>\n",
              "    </tr>\n",
              "    <tr>\n",
              "      <th>3</th>\n",
              "      <td>Household</td>\n",
              "      <td>SAF Flower Print Framed Painting (Synthetic, 1...</td>\n",
              "      <td>3</td>\n",
              "    </tr>\n",
              "    <tr>\n",
              "      <th>4</th>\n",
              "      <td>Household</td>\n",
              "      <td>Incredible Gifts India Wooden Happy Birthday U...</td>\n",
              "      <td>3</td>\n",
              "    </tr>\n",
              "    <tr>\n",
              "      <th>...</th>\n",
              "      <td>...</td>\n",
              "      <td>...</td>\n",
              "      <td>...</td>\n",
              "    </tr>\n",
              "    <tr>\n",
              "      <th>50420</th>\n",
              "      <td>Electronics</td>\n",
              "      <td>Strontium MicroSD Class 10 8GB Memory Card (Bl...</td>\n",
              "      <td>2</td>\n",
              "    </tr>\n",
              "    <tr>\n",
              "      <th>50421</th>\n",
              "      <td>Electronics</td>\n",
              "      <td>CrossBeats Wave Waterproof Bluetooth Wireless ...</td>\n",
              "      <td>2</td>\n",
              "    </tr>\n",
              "    <tr>\n",
              "      <th>50422</th>\n",
              "      <td>Electronics</td>\n",
              "      <td>Karbonn Titanium Wind W4 (White) Karbonn Titan...</td>\n",
              "      <td>2</td>\n",
              "    </tr>\n",
              "    <tr>\n",
              "      <th>50423</th>\n",
              "      <td>Electronics</td>\n",
              "      <td>Samsung Guru FM Plus (SM-B110E/D, Black) Colou...</td>\n",
              "      <td>2</td>\n",
              "    </tr>\n",
              "    <tr>\n",
              "      <th>50424</th>\n",
              "      <td>Electronics</td>\n",
              "      <td>Micromax Canvas Win W121 (White)</td>\n",
              "      <td>2</td>\n",
              "    </tr>\n",
              "  </tbody>\n",
              "</table>\n",
              "<p>50425 rows × 3 columns</p>\n",
              "</div>\n",
              "    <div class=\"colab-df-buttons\">\n",
              "\n",
              "  <div class=\"colab-df-container\">\n",
              "    <button class=\"colab-df-convert\" onclick=\"convertToInteractive('df-9cfb5f25-929f-4e0f-a034-b1407f42632c')\"\n",
              "            title=\"Convert this dataframe to an interactive table.\"\n",
              "            style=\"display:none;\">\n",
              "\n",
              "  <svg xmlns=\"http://www.w3.org/2000/svg\" height=\"24px\" viewBox=\"0 -960 960 960\">\n",
              "    <path d=\"M120-120v-720h720v720H120Zm60-500h600v-160H180v160Zm220 220h160v-160H400v160Zm0 220h160v-160H400v160ZM180-400h160v-160H180v160Zm440 0h160v-160H620v160ZM180-180h160v-160H180v160Zm440 0h160v-160H620v160Z\"/>\n",
              "  </svg>\n",
              "    </button>\n",
              "\n",
              "  <style>\n",
              "    .colab-df-container {\n",
              "      display:flex;\n",
              "      gap: 12px;\n",
              "    }\n",
              "\n",
              "    .colab-df-convert {\n",
              "      background-color: #E8F0FE;\n",
              "      border: none;\n",
              "      border-radius: 50%;\n",
              "      cursor: pointer;\n",
              "      display: none;\n",
              "      fill: #1967D2;\n",
              "      height: 32px;\n",
              "      padding: 0 0 0 0;\n",
              "      width: 32px;\n",
              "    }\n",
              "\n",
              "    .colab-df-convert:hover {\n",
              "      background-color: #E2EBFA;\n",
              "      box-shadow: 0px 1px 2px rgba(60, 64, 67, 0.3), 0px 1px 3px 1px rgba(60, 64, 67, 0.15);\n",
              "      fill: #174EA6;\n",
              "    }\n",
              "\n",
              "    .colab-df-buttons div {\n",
              "      margin-bottom: 4px;\n",
              "    }\n",
              "\n",
              "    [theme=dark] .colab-df-convert {\n",
              "      background-color: #3B4455;\n",
              "      fill: #D2E3FC;\n",
              "    }\n",
              "\n",
              "    [theme=dark] .colab-df-convert:hover {\n",
              "      background-color: #434B5C;\n",
              "      box-shadow: 0px 1px 3px 1px rgba(0, 0, 0, 0.15);\n",
              "      filter: drop-shadow(0px 1px 2px rgba(0, 0, 0, 0.3));\n",
              "      fill: #FFFFFF;\n",
              "    }\n",
              "  </style>\n",
              "\n",
              "    <script>\n",
              "      const buttonEl =\n",
              "        document.querySelector('#df-9cfb5f25-929f-4e0f-a034-b1407f42632c button.colab-df-convert');\n",
              "      buttonEl.style.display =\n",
              "        google.colab.kernel.accessAllowed ? 'block' : 'none';\n",
              "\n",
              "      async function convertToInteractive(key) {\n",
              "        const element = document.querySelector('#df-9cfb5f25-929f-4e0f-a034-b1407f42632c');\n",
              "        const dataTable =\n",
              "          await google.colab.kernel.invokeFunction('convertToInteractive',\n",
              "                                                    [key], {});\n",
              "        if (!dataTable) return;\n",
              "\n",
              "        const docLinkHtml = 'Like what you see? Visit the ' +\n",
              "          '<a target=\"_blank\" href=https://colab.research.google.com/notebooks/data_table.ipynb>data table notebook</a>'\n",
              "          + ' to learn more about interactive tables.';\n",
              "        element.innerHTML = '';\n",
              "        dataTable['output_type'] = 'display_data';\n",
              "        await google.colab.output.renderOutput(dataTable, element);\n",
              "        const docLink = document.createElement('div');\n",
              "        docLink.innerHTML = docLinkHtml;\n",
              "        element.appendChild(docLink);\n",
              "      }\n",
              "    </script>\n",
              "  </div>\n",
              "\n",
              "\n",
              "<div id=\"df-5fa19037-18e0-447a-aff2-b85407e791b6\">\n",
              "  <button class=\"colab-df-quickchart\" onclick=\"quickchart('df-5fa19037-18e0-447a-aff2-b85407e791b6')\"\n",
              "            title=\"Suggest charts.\"\n",
              "            style=\"display:none;\">\n",
              "\n",
              "<svg xmlns=\"http://www.w3.org/2000/svg\" height=\"24px\"viewBox=\"0 0 24 24\"\n",
              "     width=\"24px\">\n",
              "    <g>\n",
              "        <path d=\"M19 3H5c-1.1 0-2 .9-2 2v14c0 1.1.9 2 2 2h14c1.1 0 2-.9 2-2V5c0-1.1-.9-2-2-2zM9 17H7v-7h2v7zm4 0h-2V7h2v10zm4 0h-2v-4h2v4z\"/>\n",
              "    </g>\n",
              "</svg>\n",
              "  </button>\n",
              "\n",
              "<style>\n",
              "  .colab-df-quickchart {\n",
              "      --bg-color: #E8F0FE;\n",
              "      --fill-color: #1967D2;\n",
              "      --hover-bg-color: #E2EBFA;\n",
              "      --hover-fill-color: #174EA6;\n",
              "      --disabled-fill-color: #AAA;\n",
              "      --disabled-bg-color: #DDD;\n",
              "  }\n",
              "\n",
              "  [theme=dark] .colab-df-quickchart {\n",
              "      --bg-color: #3B4455;\n",
              "      --fill-color: #D2E3FC;\n",
              "      --hover-bg-color: #434B5C;\n",
              "      --hover-fill-color: #FFFFFF;\n",
              "      --disabled-bg-color: #3B4455;\n",
              "      --disabled-fill-color: #666;\n",
              "  }\n",
              "\n",
              "  .colab-df-quickchart {\n",
              "    background-color: var(--bg-color);\n",
              "    border: none;\n",
              "    border-radius: 50%;\n",
              "    cursor: pointer;\n",
              "    display: none;\n",
              "    fill: var(--fill-color);\n",
              "    height: 32px;\n",
              "    padding: 0;\n",
              "    width: 32px;\n",
              "  }\n",
              "\n",
              "  .colab-df-quickchart:hover {\n",
              "    background-color: var(--hover-bg-color);\n",
              "    box-shadow: 0 1px 2px rgba(60, 64, 67, 0.3), 0 1px 3px 1px rgba(60, 64, 67, 0.15);\n",
              "    fill: var(--button-hover-fill-color);\n",
              "  }\n",
              "\n",
              "  .colab-df-quickchart-complete:disabled,\n",
              "  .colab-df-quickchart-complete:disabled:hover {\n",
              "    background-color: var(--disabled-bg-color);\n",
              "    fill: var(--disabled-fill-color);\n",
              "    box-shadow: none;\n",
              "  }\n",
              "\n",
              "  .colab-df-spinner {\n",
              "    border: 2px solid var(--fill-color);\n",
              "    border-color: transparent;\n",
              "    border-bottom-color: var(--fill-color);\n",
              "    animation:\n",
              "      spin 1s steps(1) infinite;\n",
              "  }\n",
              "\n",
              "  @keyframes spin {\n",
              "    0% {\n",
              "      border-color: transparent;\n",
              "      border-bottom-color: var(--fill-color);\n",
              "      border-left-color: var(--fill-color);\n",
              "    }\n",
              "    20% {\n",
              "      border-color: transparent;\n",
              "      border-left-color: var(--fill-color);\n",
              "      border-top-color: var(--fill-color);\n",
              "    }\n",
              "    30% {\n",
              "      border-color: transparent;\n",
              "      border-left-color: var(--fill-color);\n",
              "      border-top-color: var(--fill-color);\n",
              "      border-right-color: var(--fill-color);\n",
              "    }\n",
              "    40% {\n",
              "      border-color: transparent;\n",
              "      border-right-color: var(--fill-color);\n",
              "      border-top-color: var(--fill-color);\n",
              "    }\n",
              "    60% {\n",
              "      border-color: transparent;\n",
              "      border-right-color: var(--fill-color);\n",
              "    }\n",
              "    80% {\n",
              "      border-color: transparent;\n",
              "      border-right-color: var(--fill-color);\n",
              "      border-bottom-color: var(--fill-color);\n",
              "    }\n",
              "    90% {\n",
              "      border-color: transparent;\n",
              "      border-bottom-color: var(--fill-color);\n",
              "    }\n",
              "  }\n",
              "</style>\n",
              "\n",
              "  <script>\n",
              "    async function quickchart(key) {\n",
              "      const quickchartButtonEl =\n",
              "        document.querySelector('#' + key + ' button');\n",
              "      quickchartButtonEl.disabled = true;  // To prevent multiple clicks.\n",
              "      quickchartButtonEl.classList.add('colab-df-spinner');\n",
              "      try {\n",
              "        const charts = await google.colab.kernel.invokeFunction(\n",
              "            'suggestCharts', [key], {});\n",
              "      } catch (error) {\n",
              "        console.error('Error during call to suggestCharts:', error);\n",
              "      }\n",
              "      quickchartButtonEl.classList.remove('colab-df-spinner');\n",
              "      quickchartButtonEl.classList.add('colab-df-quickchart-complete');\n",
              "    }\n",
              "    (() => {\n",
              "      let quickchartButtonEl =\n",
              "        document.querySelector('#df-5fa19037-18e0-447a-aff2-b85407e791b6 button');\n",
              "      quickchartButtonEl.style.display =\n",
              "        google.colab.kernel.accessAllowed ? 'block' : 'none';\n",
              "    })();\n",
              "  </script>\n",
              "</div>\n",
              "    </div>\n",
              "  </div>\n"
            ]
          },
          "metadata": {},
          "execution_count": 12
        }
      ]
    },
    {
      "cell_type": "code",
      "source": [
        "df.isnull().sum()"
      ],
      "metadata": {
        "colab": {
          "base_uri": "https://localhost:8080/"
        },
        "id": "GWdVcQubkUxt",
        "outputId": "7498773e-a0bf-44ec-ae42-4a70d0cad200"
      },
      "execution_count": null,
      "outputs": [
        {
          "output_type": "execute_result",
          "data": {
            "text/plain": [
              "label           0\n",
              "text            1\n",
              "label_encode    0\n",
              "dtype: int64"
            ]
          },
          "metadata": {},
          "execution_count": 13
        }
      ]
    },
    {
      "cell_type": "code",
      "source": [
        "df.dropna(inplace = True)"
      ],
      "metadata": {
        "id": "KE-ILswykW_J"
      },
      "execution_count": null,
      "outputs": []
    },
    {
      "cell_type": "code",
      "source": [
        "from nltk.corpus import stopwords\n",
        "from nltk.tokenize import word_tokenize\n",
        "import re\n",
        "import spacy\n",
        "nlp = spacy.load(\"en_core_web_sm\")"
      ],
      "metadata": {
        "id": "Eabr7VjqCRZI"
      },
      "execution_count": null,
      "outputs": []
    },
    {
      "cell_type": "code",
      "source": [
        "from pandas.core.arrays.timedeltas import sequence_to_td64ns\n",
        "def clean_text(text):\n",
        "  text = re.sub(r\"[''@#!$*_+]\", '', text)\n",
        "  text = re.sub(r\"[,:;]\", ' ', text)\n",
        "  text = re.sub(r'[?|\"-]', ' ', text)\n",
        "  text = re.sub(r'[\\\\\\/]', '', text)\n",
        "  text = re.sub(r'\\s+', ' ', text)\n",
        "  text = text.lower()\n",
        "  return text"
      ],
      "metadata": {
        "id": "9Uy3lXiLCRPM"
      },
      "execution_count": null,
      "outputs": []
    },
    {
      "cell_type": "code",
      "source": [
        "df['clean_text'] = df['text'].apply(lambda x : clean_text(x))"
      ],
      "metadata": {
        "id": "oPmw4_DNCRFV"
      },
      "execution_count": null,
      "outputs": []
    },
    {
      "cell_type": "code",
      "source": [
        "df.head()"
      ],
      "metadata": {
        "id": "gnZtkJipNXN7",
        "colab": {
          "base_uri": "https://localhost:8080/",
          "height": 293
        },
        "outputId": "ef85e906-555b-407b-fb49-dd85774d3460"
      },
      "execution_count": null,
      "outputs": [
        {
          "output_type": "execute_result",
          "data": {
            "text/plain": [
              "       label                                               text  label_encode  \\\n",
              "0  Household  Paper Plane Design Framed Wall Hanging Motivat...             3   \n",
              "1  Household  SAF 'Floral' Framed Painting (Wood, 30 inch x ...             3   \n",
              "2  Household  SAF 'UV Textured Modern Art Print Framed' Pain...             3   \n",
              "3  Household  SAF Flower Print Framed Painting (Synthetic, 1...             3   \n",
              "4  Household  Incredible Gifts India Wooden Happy Birthday U...             3   \n",
              "\n",
              "                                          clean_text  \n",
              "0  paper plane design framed wall hanging motivat...  \n",
              "1  saf floral framed painting (wood 30 inch x 10 ...  \n",
              "2  saf uv textured modern art print framed painti...  \n",
              "3  saf flower print framed painting (synthetic 13...  \n",
              "4  incredible gifts india wooden happy birthday u...  "
            ],
            "text/html": [
              "\n",
              "  <div id=\"df-40987536-3993-482a-bcfa-0c3e298e4039\" class=\"colab-df-container\">\n",
              "    <div>\n",
              "<style scoped>\n",
              "    .dataframe tbody tr th:only-of-type {\n",
              "        vertical-align: middle;\n",
              "    }\n",
              "\n",
              "    .dataframe tbody tr th {\n",
              "        vertical-align: top;\n",
              "    }\n",
              "\n",
              "    .dataframe thead th {\n",
              "        text-align: right;\n",
              "    }\n",
              "</style>\n",
              "<table border=\"1\" class=\"dataframe\">\n",
              "  <thead>\n",
              "    <tr style=\"text-align: right;\">\n",
              "      <th></th>\n",
              "      <th>label</th>\n",
              "      <th>text</th>\n",
              "      <th>label_encode</th>\n",
              "      <th>clean_text</th>\n",
              "    </tr>\n",
              "  </thead>\n",
              "  <tbody>\n",
              "    <tr>\n",
              "      <th>0</th>\n",
              "      <td>Household</td>\n",
              "      <td>Paper Plane Design Framed Wall Hanging Motivat...</td>\n",
              "      <td>3</td>\n",
              "      <td>paper plane design framed wall hanging motivat...</td>\n",
              "    </tr>\n",
              "    <tr>\n",
              "      <th>1</th>\n",
              "      <td>Household</td>\n",
              "      <td>SAF 'Floral' Framed Painting (Wood, 30 inch x ...</td>\n",
              "      <td>3</td>\n",
              "      <td>saf floral framed painting (wood 30 inch x 10 ...</td>\n",
              "    </tr>\n",
              "    <tr>\n",
              "      <th>2</th>\n",
              "      <td>Household</td>\n",
              "      <td>SAF 'UV Textured Modern Art Print Framed' Pain...</td>\n",
              "      <td>3</td>\n",
              "      <td>saf uv textured modern art print framed painti...</td>\n",
              "    </tr>\n",
              "    <tr>\n",
              "      <th>3</th>\n",
              "      <td>Household</td>\n",
              "      <td>SAF Flower Print Framed Painting (Synthetic, 1...</td>\n",
              "      <td>3</td>\n",
              "      <td>saf flower print framed painting (synthetic 13...</td>\n",
              "    </tr>\n",
              "    <tr>\n",
              "      <th>4</th>\n",
              "      <td>Household</td>\n",
              "      <td>Incredible Gifts India Wooden Happy Birthday U...</td>\n",
              "      <td>3</td>\n",
              "      <td>incredible gifts india wooden happy birthday u...</td>\n",
              "    </tr>\n",
              "  </tbody>\n",
              "</table>\n",
              "</div>\n",
              "    <div class=\"colab-df-buttons\">\n",
              "\n",
              "  <div class=\"colab-df-container\">\n",
              "    <button class=\"colab-df-convert\" onclick=\"convertToInteractive('df-40987536-3993-482a-bcfa-0c3e298e4039')\"\n",
              "            title=\"Convert this dataframe to an interactive table.\"\n",
              "            style=\"display:none;\">\n",
              "\n",
              "  <svg xmlns=\"http://www.w3.org/2000/svg\" height=\"24px\" viewBox=\"0 -960 960 960\">\n",
              "    <path d=\"M120-120v-720h720v720H120Zm60-500h600v-160H180v160Zm220 220h160v-160H400v160Zm0 220h160v-160H400v160ZM180-400h160v-160H180v160Zm440 0h160v-160H620v160ZM180-180h160v-160H180v160Zm440 0h160v-160H620v160Z\"/>\n",
              "  </svg>\n",
              "    </button>\n",
              "\n",
              "  <style>\n",
              "    .colab-df-container {\n",
              "      display:flex;\n",
              "      gap: 12px;\n",
              "    }\n",
              "\n",
              "    .colab-df-convert {\n",
              "      background-color: #E8F0FE;\n",
              "      border: none;\n",
              "      border-radius: 50%;\n",
              "      cursor: pointer;\n",
              "      display: none;\n",
              "      fill: #1967D2;\n",
              "      height: 32px;\n",
              "      padding: 0 0 0 0;\n",
              "      width: 32px;\n",
              "    }\n",
              "\n",
              "    .colab-df-convert:hover {\n",
              "      background-color: #E2EBFA;\n",
              "      box-shadow: 0px 1px 2px rgba(60, 64, 67, 0.3), 0px 1px 3px 1px rgba(60, 64, 67, 0.15);\n",
              "      fill: #174EA6;\n",
              "    }\n",
              "\n",
              "    .colab-df-buttons div {\n",
              "      margin-bottom: 4px;\n",
              "    }\n",
              "\n",
              "    [theme=dark] .colab-df-convert {\n",
              "      background-color: #3B4455;\n",
              "      fill: #D2E3FC;\n",
              "    }\n",
              "\n",
              "    [theme=dark] .colab-df-convert:hover {\n",
              "      background-color: #434B5C;\n",
              "      box-shadow: 0px 1px 3px 1px rgba(0, 0, 0, 0.15);\n",
              "      filter: drop-shadow(0px 1px 2px rgba(0, 0, 0, 0.3));\n",
              "      fill: #FFFFFF;\n",
              "    }\n",
              "  </style>\n",
              "\n",
              "    <script>\n",
              "      const buttonEl =\n",
              "        document.querySelector('#df-40987536-3993-482a-bcfa-0c3e298e4039 button.colab-df-convert');\n",
              "      buttonEl.style.display =\n",
              "        google.colab.kernel.accessAllowed ? 'block' : 'none';\n",
              "\n",
              "      async function convertToInteractive(key) {\n",
              "        const element = document.querySelector('#df-40987536-3993-482a-bcfa-0c3e298e4039');\n",
              "        const dataTable =\n",
              "          await google.colab.kernel.invokeFunction('convertToInteractive',\n",
              "                                                    [key], {});\n",
              "        if (!dataTable) return;\n",
              "\n",
              "        const docLinkHtml = 'Like what you see? Visit the ' +\n",
              "          '<a target=\"_blank\" href=https://colab.research.google.com/notebooks/data_table.ipynb>data table notebook</a>'\n",
              "          + ' to learn more about interactive tables.';\n",
              "        element.innerHTML = '';\n",
              "        dataTable['output_type'] = 'display_data';\n",
              "        await google.colab.output.renderOutput(dataTable, element);\n",
              "        const docLink = document.createElement('div');\n",
              "        docLink.innerHTML = docLinkHtml;\n",
              "        element.appendChild(docLink);\n",
              "      }\n",
              "    </script>\n",
              "  </div>\n",
              "\n",
              "\n",
              "<div id=\"df-9fad833b-513f-4160-b476-ee48aca7e1d8\">\n",
              "  <button class=\"colab-df-quickchart\" onclick=\"quickchart('df-9fad833b-513f-4160-b476-ee48aca7e1d8')\"\n",
              "            title=\"Suggest charts.\"\n",
              "            style=\"display:none;\">\n",
              "\n",
              "<svg xmlns=\"http://www.w3.org/2000/svg\" height=\"24px\"viewBox=\"0 0 24 24\"\n",
              "     width=\"24px\">\n",
              "    <g>\n",
              "        <path d=\"M19 3H5c-1.1 0-2 .9-2 2v14c0 1.1.9 2 2 2h14c1.1 0 2-.9 2-2V5c0-1.1-.9-2-2-2zM9 17H7v-7h2v7zm4 0h-2V7h2v10zm4 0h-2v-4h2v4z\"/>\n",
              "    </g>\n",
              "</svg>\n",
              "  </button>\n",
              "\n",
              "<style>\n",
              "  .colab-df-quickchart {\n",
              "      --bg-color: #E8F0FE;\n",
              "      --fill-color: #1967D2;\n",
              "      --hover-bg-color: #E2EBFA;\n",
              "      --hover-fill-color: #174EA6;\n",
              "      --disabled-fill-color: #AAA;\n",
              "      --disabled-bg-color: #DDD;\n",
              "  }\n",
              "\n",
              "  [theme=dark] .colab-df-quickchart {\n",
              "      --bg-color: #3B4455;\n",
              "      --fill-color: #D2E3FC;\n",
              "      --hover-bg-color: #434B5C;\n",
              "      --hover-fill-color: #FFFFFF;\n",
              "      --disabled-bg-color: #3B4455;\n",
              "      --disabled-fill-color: #666;\n",
              "  }\n",
              "\n",
              "  .colab-df-quickchart {\n",
              "    background-color: var(--bg-color);\n",
              "    border: none;\n",
              "    border-radius: 50%;\n",
              "    cursor: pointer;\n",
              "    display: none;\n",
              "    fill: var(--fill-color);\n",
              "    height: 32px;\n",
              "    padding: 0;\n",
              "    width: 32px;\n",
              "  }\n",
              "\n",
              "  .colab-df-quickchart:hover {\n",
              "    background-color: var(--hover-bg-color);\n",
              "    box-shadow: 0 1px 2px rgba(60, 64, 67, 0.3), 0 1px 3px 1px rgba(60, 64, 67, 0.15);\n",
              "    fill: var(--button-hover-fill-color);\n",
              "  }\n",
              "\n",
              "  .colab-df-quickchart-complete:disabled,\n",
              "  .colab-df-quickchart-complete:disabled:hover {\n",
              "    background-color: var(--disabled-bg-color);\n",
              "    fill: var(--disabled-fill-color);\n",
              "    box-shadow: none;\n",
              "  }\n",
              "\n",
              "  .colab-df-spinner {\n",
              "    border: 2px solid var(--fill-color);\n",
              "    border-color: transparent;\n",
              "    border-bottom-color: var(--fill-color);\n",
              "    animation:\n",
              "      spin 1s steps(1) infinite;\n",
              "  }\n",
              "\n",
              "  @keyframes spin {\n",
              "    0% {\n",
              "      border-color: transparent;\n",
              "      border-bottom-color: var(--fill-color);\n",
              "      border-left-color: var(--fill-color);\n",
              "    }\n",
              "    20% {\n",
              "      border-color: transparent;\n",
              "      border-left-color: var(--fill-color);\n",
              "      border-top-color: var(--fill-color);\n",
              "    }\n",
              "    30% {\n",
              "      border-color: transparent;\n",
              "      border-left-color: var(--fill-color);\n",
              "      border-top-color: var(--fill-color);\n",
              "      border-right-color: var(--fill-color);\n",
              "    }\n",
              "    40% {\n",
              "      border-color: transparent;\n",
              "      border-right-color: var(--fill-color);\n",
              "      border-top-color: var(--fill-color);\n",
              "    }\n",
              "    60% {\n",
              "      border-color: transparent;\n",
              "      border-right-color: var(--fill-color);\n",
              "    }\n",
              "    80% {\n",
              "      border-color: transparent;\n",
              "      border-right-color: var(--fill-color);\n",
              "      border-bottom-color: var(--fill-color);\n",
              "    }\n",
              "    90% {\n",
              "      border-color: transparent;\n",
              "      border-bottom-color: var(--fill-color);\n",
              "    }\n",
              "  }\n",
              "</style>\n",
              "\n",
              "  <script>\n",
              "    async function quickchart(key) {\n",
              "      const quickchartButtonEl =\n",
              "        document.querySelector('#' + key + ' button');\n",
              "      quickchartButtonEl.disabled = true;  // To prevent multiple clicks.\n",
              "      quickchartButtonEl.classList.add('colab-df-spinner');\n",
              "      try {\n",
              "        const charts = await google.colab.kernel.invokeFunction(\n",
              "            'suggestCharts', [key], {});\n",
              "      } catch (error) {\n",
              "        console.error('Error during call to suggestCharts:', error);\n",
              "      }\n",
              "      quickchartButtonEl.classList.remove('colab-df-spinner');\n",
              "      quickchartButtonEl.classList.add('colab-df-quickchart-complete');\n",
              "    }\n",
              "    (() => {\n",
              "      let quickchartButtonEl =\n",
              "        document.querySelector('#df-9fad833b-513f-4160-b476-ee48aca7e1d8 button');\n",
              "      quickchartButtonEl.style.display =\n",
              "        google.colab.kernel.accessAllowed ? 'block' : 'none';\n",
              "    })();\n",
              "  </script>\n",
              "</div>\n",
              "    </div>\n",
              "  </div>\n"
            ]
          },
          "metadata": {},
          "execution_count": 18
        }
      ]
    },
    {
      "cell_type": "code",
      "source": [
        "for i in range(5):\n",
        "  ind = random.choice(range(len(df)))\n",
        "  print(f'label : \\n {df.label[ind]}')\n",
        "  print(f\"Text : \\n{df.text[ind]}\\n\")\n",
        "  print(f'Clean text : \\n{df.clean_text[ind]}\\n')\n",
        "  print('------')"
      ],
      "metadata": {
        "id": "WyV57rwWCQ7M",
        "colab": {
          "base_uri": "https://localhost:8080/"
        },
        "outputId": "6e704866-e010-4893-9a9d-af3dc85ea2c8"
      },
      "execution_count": null,
      "outputs": [
        {
          "output_type": "stream",
          "name": "stdout",
          "text": [
            "label : \n",
            " Household\n",
            "Text : \n",
            "Woodness Chicago Y Engineered Wood L-Shaped Computer Desk (Matte Finish, Grey Oak) The clean-lined silhouette and modern, dual-tone design of this computer table provide both sophistication and utility. Cleverly engineered to maximize style while conserving space, it is a reliable and versatile piece of furniture for any work or study space. It provides storage shelves, and has a movable table arm which can be positioned to best suit your needs. Manufactured from engineered wood with polyurethane lamination, the table top is 32 mm thick, and the shelves are 15 mm thick. The backboard is 3 mm thick.\n",
            "\n",
            "Clean text : \n",
            "woodness chicago y engineered wood l shaped computer desk (matte finish grey oak) the clean lined silhouette and modern dual tone design of this computer table provide both sophistication and utility. cleverly engineered to maximize style while conserving space it is a reliable and versatile piece of furniture for any work or study space. it provides storage shelves and has a movable table arm which can be positioned to best suit your needs. manufactured from engineered wood with polyurethane lamination the table top is 32 mm thick and the shelves are 15 mm thick. the backboard is 3 mm thick.\n",
            "\n",
            "------\n",
            "label : \n",
            " Household\n",
            "Text : \n",
            "Motoway Metal Windproof Cigarette Gas Lighter - Playing Cards Ace Playing Card Cigarette Lighter With Led Torch Light- Item The following is included your purchase: One playing card lighter High Quality Refillable lighter Small size light weight Works with ordinary butane fuel Ideal for daily use and outdoor activities such as camping, fishing,hunting, and so on.\n",
            "\n",
            "Clean text : \n",
            "motoway metal windproof cigarette gas lighter playing cards ace playing card cigarette lighter with led torch light item the following is included your purchase one playing card lighter high quality refillable lighter small size light weight works with ordinary butane fuel ideal for daily use and outdoor activities such as camping fishing hunting and so on.\n",
            "\n",
            "------\n",
            "label : \n",
            " Household\n",
            "Text : \n",
            "JP Hardware Pack of 8 Ceramic Knobs for Cabinets & Cupboards| Drawer Pulls Suitable for decorating your kitchen, living room, bedroom, Classy pull knob is perfect for drawer, door, cabinet, and wardrobe Package Includes: 8 x ceramic Knobs and 8 Mounting Screws with nut bolts and washers Knob Diameter: 38mm, Backplate Diameter: 30mm, Screw Thread Diameter: 4mm Change the look and feel of any room with cabinets or drawers Decorative drawer pull knob is crafted in traditional style\n",
            "\n",
            "Clean text : \n",
            "jp hardware pack of 8 ceramic knobs for cabinets & cupboards drawer pulls suitable for decorating your kitchen living room bedroom classy pull knob is perfect for drawer door cabinet and wardrobe package includes 8 x ceramic knobs and 8 mounting screws with nut bolts and washers knob diameter 38mm backplate diameter 30mm screw thread diameter 4mm change the look and feel of any room with cabinets or drawers decorative drawer pull knob is crafted in traditional style\n",
            "\n",
            "------\n",
            "label : \n",
            " Clothing & Accessories\n",
            "Text : \n",
            "Janasya Women's Long Cholis Saree Blouse Janasya readymade saree blouse is made of premium quality cotton lycra stretchable fabric. It can be worn as crop top also. Flaunt a nonchalant look wearing this saree blouse by Janasya. This blouse comes with different color options. This blouse is highly comfortable and a perfect pick of any season. Content: 1Pc blouse can fit a wide size range between 28\"-36\". its a cotton lycra stretchable blouse.\n",
            "\n",
            "Clean text : \n",
            "janasya womens long cholis saree blouse janasya readymade saree blouse is made of premium quality cotton lycra stretchable fabric. it can be worn as crop top also. flaunt a nonchalant look wearing this saree blouse by janasya. this blouse comes with different color options. this blouse is highly comfortable and a perfect pick of any season. content 1pc blouse can fit a wide size range between 28 36 . its a cotton lycra stretchable blouse.\n",
            "\n",
            "------\n",
            "label : \n",
            " Books\n",
            "Text : \n",
            "10 Principles for Doing Effective Couples Therapy (Norton Series on Interpersonal Neurobiology) Review If you enjoy seeing the Gottmans as presenters, you will love their most recent book, 10 Principles for Doing Effective Couples Therapy. Extraordinary therapists and gifted researchers, it’s as if you can hear the authors’ voices emanate from the text. . . . [E]asy to read, while also providing useful concepts and a formula that works. . . . Of course, I recommend this book. It can be used as a resource guide, as well as one that offers immediate tools for working with clients. The research-based wisdom will no doubt become standardized knowledge because of how applicable it is for clinical work. — The Milton H. Erickson Foundation Newsletter[L]ike their previous books, 10 Principles attempts to break down a complex issue into something more tangible. . . . [T]he heart of this text focuses on well-crafted principles for effective therapy, and includes scientific research, assessments, exercises, and statistics. . . . Few things are more fascinating than when therapy and scientific research come together, which is precisely why any work produced by John or Julie Gottman makes for an interesting read. — PsychCentralKnown for their iconic research on couples, their prolific writings, and the development of a couples therapy informed by their research findings, Julie and John Gottman, in this well written and comprehensive book, gift their clinical wisdom and processes to couples therapists. Filled with clinical insight, coherent theory, case illustrations, various data gathering forms, and a treatment plan, this book should increase the competence and confidence of any clinician who is wise enough to read it. — Harville Hendrix, PhD and Helen LaKelly Hunt, PhD, co-creators of Imago Relationship Therapy and authors of Getting the Love You Want and Making Marriage SimpleIn 10 principles, this book lays out in an eminently readable and accessible way the basic steps of effective couple therapy. It is a great contribution to the field and will guide numerous therapists onto the path of successful intervention. — Sue Johnson, author of Hold Me Tight and Love Sense; Founding Director of The International Center for Excellence in Emotionally Focused Therapy \t\t\t\t    \t \t\t\t\t\t About the Author Julie Schwartz Gottman, Ph.D., is the Co-Founder and President of The Gottman Institute. A highly respected clinical psychologist, she is sought internationally by media and organizations as an expert advisor on marriage, domestic violence, gay and lesbian adoption, same-sex marriage, and parenting issues. She is the co-creator of the immensely popular The Art and Science of Love weekend workshop for couples and she also co-designed the national clinical training program in Gottman Method Couples Therapy.John M. Gottman, PhD, is William Mifflin Professor of Psychology at the University of Washington in Seattle. World-renowned for his work on marital stability and divorce prediction, Dr. Gottman has conducted 40 years of breakthrough research with thousands of couples. He is the author of over two dozen books, including Seven Principles to Making Marriage Work, The Heart of Parenting (with J. DeClaire), When Men Batter Women (with Neil Jacobson), Why Marriages Succeed or Fail, The Marriage Clinic, and The Science of Trust.Daniel J. Siegel, MD is a graduate of Harvard Medical School and completed his postgraduate medical education at UCLA with training in pediatrics and child, adolescent, and adult psychiatry. He is currently a clinical professor of psychiatry at the UCLA School of Medicine, founding co-director of UCLA’s Mindful Awareness Research Center, founding co-investigator at the UCLA Center for Culture, Brain and Development, and executive director of the Mindsight Institute, an educational center devoted to promoting insight, compassion, and empathy in individuals, families, institutions, and communities. Dr. Siegel’s psychotherapy practice spans thirty years, and he has published extensively for the professional audience. He serves as the Founding Editor for theNorton Professional Series on Interpersonal Neurobiology which includes over three dozen textbooks. Dr. Siegel’s books include Mindsight, Pocket Guide to Interpersonal Neurobiology, The Developing Mind, Second Edition, The Mindful Therapist, The Mindful Brain, Parenting from the Inside Out (with Mary Hartzell, M.Ed.), and the three New York Times bestsellers: Brainstorm, The Whole-Brain Child (with Tina Payne Bryson, Ph.D.), and his latest No-Drama Discipline (with Tina Payne Bryson, Ph.D.). He has been invited to lecture for the King of Thailand, Pope John Paul II, His Holiness the Dalai Lama, Google University, and TEDx. For more information about his educational programs and resources, please visit: www.DrDanSiegel.com.\n",
            "\n",
            "Clean text : \n",
            "10 principles for doing effective couples therapy (norton series on interpersonal neurobiology) review if you enjoy seeing the gottmans as presenters you will love their most recent book 10 principles for doing effective couples therapy. extraordinary therapists and gifted researchers it’s as if you can hear the authors’ voices emanate from the text. . . . [e]asy to read while also providing useful concepts and a formula that works. . . . of course i recommend this book. it can be used as a resource guide as well as one that offers immediate tools for working with clients. the research based wisdom will no doubt become standardized knowledge because of how applicable it is for clinical work. — the milton h. erickson foundation newsletter[l]ike their previous books 10 principles attempts to break down a complex issue into something more tangible. . . . [t]he heart of this text focuses on well crafted principles for effective therapy and includes scientific research assessments exercises and statistics. . . . few things are more fascinating than when therapy and scientific research come together which is precisely why any work produced by john or julie gottman makes for an interesting read. — psychcentralknown for their iconic research on couples their prolific writings and the development of a couples therapy informed by their research findings julie and john gottman in this well written and comprehensive book gift their clinical wisdom and processes to couples therapists. filled with clinical insight coherent theory case illustrations various data gathering forms and a treatment plan this book should increase the competence and confidence of any clinician who is wise enough to read it. — harville hendrix phd and helen lakelly hunt phd co creators of imago relationship therapy and authors of getting the love you want and making marriage simplein 10 principles this book lays out in an eminently readable and accessible way the basic steps of effective couple therapy. it is a great contribution to the field and will guide numerous therapists onto the path of successful intervention. — sue johnson author of hold me tight and love sense founding director of the international center for excellence in emotionally focused therapy about the author julie schwartz gottman ph.d. is the co founder and president of the gottman institute. a highly respected clinical psychologist she is sought internationally by media and organizations as an expert advisor on marriage domestic violence gay and lesbian adoption same sex marriage and parenting issues. she is the co creator of the immensely popular the art and science of love weekend workshop for couples and she also co designed the national clinical training program in gottman method couples therapy.john m. gottman phd is william mifflin professor of psychology at the university of washington in seattle. world renowned for his work on marital stability and divorce prediction dr. gottman has conducted 40 years of breakthrough research with thousands of couples. he is the author of over two dozen books including seven principles to making marriage work the heart of parenting (with j. declaire) when men batter women (with neil jacobson) why marriages succeed or fail the marriage clinic and the science of trust.daniel j. siegel md is a graduate of harvard medical school and completed his postgraduate medical education at ucla with training in pediatrics and child adolescent and adult psychiatry. he is currently a clinical professor of psychiatry at the ucla school of medicine founding co director of ucla’s mindful awareness research center founding co investigator at the ucla center for culture brain and development and executive director of the mindsight institute an educational center devoted to promoting insight compassion and empathy in individuals families institutions and communities. dr. siegel’s psychotherapy practice spans thirty years and he has published extensively for the professional audience. he serves as the founding editor for thenorton professional series on interpersonal neurobiology which includes over three dozen textbooks. dr. siegel’s books include mindsight pocket guide to interpersonal neurobiology the developing mind second edition the mindful therapist the mindful brain parenting from the inside out (with mary hartzell m.ed.) and the three new york times bestsellers brainstorm the whole brain child (with tina payne bryson ph.d.) and his latest no drama discipline (with tina payne bryson ph.d.). he has been invited to lecture for the king of thailand pope john paul ii his holiness the dalai lama google university and tedx. for more information about his educational programs and resources please visit www.drdansiegel.com.\n",
            "\n",
            "------\n"
          ]
        }
      ]
    },
    {
      "cell_type": "markdown",
      "source": [
        "# Modelling"
      ],
      "metadata": {
        "id": "593CA_TNUh8N"
      }
    },
    {
      "cell_type": "markdown",
      "source": [
        "##Split Data"
      ],
      "metadata": {
        "id": "uJiM0_sECOCf"
      }
    },
    {
      "cell_type": "code",
      "source": [
        "from sklearn.model_selection import train_test_split\n",
        "\n",
        "x = df['clean_text']\n",
        "y = df['label_encode']\n",
        "\n",
        "x_train, x_test, y_train, y_test = train_test_split(x.to_numpy(), y.to_numpy(), random_state = 42, test_size = 0.30)"
      ],
      "metadata": {
        "id": "lQNnoQpUOXZh"
      },
      "execution_count": null,
      "outputs": []
    },
    {
      "cell_type": "code",
      "source": [
        "x_train[:10]"
      ],
      "metadata": {
        "id": "oyfnOml4a1zy",
        "colab": {
          "base_uri": "https://localhost:8080/"
        },
        "outputId": "ca520e47-07ba-4555-a725-864889d5ad91"
      },
      "execution_count": null,
      "outputs": [
        {
          "output_type": "execute_result",
          "data": {
            "text/plain": [
              "array(['acer 18.5 inch (46.99 cm) led monitor eb192q (black) specifications led 18.5 acer eb192qb (b). brand acer model eb192qb response time 5 ms max. resolution 1366x768 60hz contrast ratio 100 million 1 (acm). brightness 200 nits (cd m2). display 18.5 inch color system 16.7 m power supply (100v 240v) internal power consumption (off) 0.45w power consumption (sleep) 14w power consumption (on) 18w. vga port 1 port.',\n",
              "       'soumik electricals 5 inch subwoofer with maximum 4 ohm(100 w) thisb product is from the brand soumik electricals it presents a 5 inch subwoofer with maximum 4 ohm and comes with 100w. use in your home theatre.',\n",
              "       'amazon brand solimo collage photo frames (set of 6 wall hanging) black color black adorn your interiors with this beautiful decor. solimo photo frames are simple yet attractive in design',\n",
              "       'la girl pro conceal orange corrector 8g crease resistant opaque coverage in a creamy yet lightweight texture. the long wearing formula camouflages darkness under the eyes redness and skin imperfections. this bendable and buildable formula provides the ultimate customizable coverage. this must have concealer includes a soft brush tip for easy application. provides complete natural looking coverage evens skin tone covers dark circles and minimizes fine lines around the eyes. camouflages the appearance of skin imperfections evens out skin tone covers dark circles minimizes fine lines provides customizable coverage.',\n",
              "       'dm cool cotton quilt oven glove and pot holder (33 x 16cm) set of 2 the best way to protect your hands. these cotton oven mitts allow you to handle cookware safely comfort these gloves are made of 100 per cent cotton fabric and 300 gsm quilt makes the oven mitts soft. and theyre cushioned for added comfort. a perfect fit for him or her these oven mitts measure 33 x 16 cm in size to fit everyone keep them wit in easy reach loops on the bottoms of the gloves allow them to be hung on a hook in between uses east to clean when the oven mitts get dirty you can machine wash them for simple care.',\n",
              "       'holmes kettle tsq0051electric kettlekettletea kettletea and coffee makermilk boilerwater boilertea boilercoffee boilerwater heaterstainless steel kettle1.8 liter stainless steel holmes electric kettle by holmes scarlett tsq0051 1.5l an easy and attractive way to heat water in no timeholme’s electric kettles now boiling water coffeetea hot chocolate soups is a matter of minutes. with attractive features like automatic cut off single touch lid locking ergonomically designed handles unique design with attractive finishes holme’s electric kettles are a must have. 1.5l capacity elegant handles with single touch lid locking automatic cut off concealed element power indicator 360 degree swivel base auto shut off the automatic cut off feature cuts off the power supply when the temperature inside exceeds the desired levels protects the appliance from damage making it safe and improves its lifespan as well. this features prevents consumption of excess power supply and electricity. extra fast water boiler 1500w power makes the boiling more efficient than stove top and microwave. large capacity (1.8l) which slits for a whole family the water comes to a full boil within 5 6 minutes and will be ready to use for tea coffee pasta hot chocolate oatmeal instant soup and so on. optimal spout design spout design for easy pouring with a reusable removable perforated stainless steel filter that strains water while you pour. illuminated power indicator this kettle has illuminated power indicator which glows when power is on and darkens when power is off. single touch lid locking the single touch lid locking mechanism ensures a quick seal to prevent steam from escaping and water to boil in no time. thus making it energy saving. 360 degree swivel base swivel power base allows you to plug it in any direction with desired jug handle position.',\n",
              "       'status quo mens synthetic jacket status quo jacket is regular fit sleeveless jacket with fabric being 100% polyester. this jacket with jeans or chinos will give you great look. do not bleach this product.',\n",
              "       'aquieen exclusive cabinetwardrobepulldrawer handle premium 96mm antique brass black finish aq 718 (pack of 2) aquieen products are designed to meet the high end needs of consumers belonging to all from simple cabinet handles to mortise locks coat hooks curtain brackets bathroom fittings etc. our products are designed to make your life easier. quality products at good prices are major aspects that make aquieen a preferable brand. with an open mind and creativity aquieen hardware can produce results much above your expectations.',\n",
              "       'exclusivelane the singing bird hand painted decorative hanging wind chime in wood & metal wooden decorative wind chimes for balcony lawn garden wall hangings door wind sculptures & spinners wall décor decoration items for home door hangings decoration stylish skilfully hand crafted and hand painted in wood and metal by craftspeople from the interiors of india ‘the singing bird’ is an artistic hanging wind charm that captures the beauty of nature’s melodious treats in the form of a compact aesthetic home decor product. the simple composition of a bird crafted delicately in wood anchored with a pair of ethnic metal bells brings the soft essence of a bird’s melody when the bells clinker with passing winds tuning feel good rustic rhythms that liven up any space. the detailed hand painting on the bird in a luscious green is complemented with two brightly hand painted red metal bells complete with an ethnic beaded jute dory. hand crafted with love this ethnic wind charm is an art piece that also doubles up as a feel good product for your favourite spaces.',\n",
              "       'iball slide dazzle i7 tablet (7 inch 8gb wi fi 3g voice calling) midnight blue a 7 inch frame in a dazzlingly beautiful shade of midnight blue this tablet pc will impress you visually at first sight. powered by a quad core processor on the latest android 7.0 nougat operating system –the iball slide dazzle i7 is the apt choice to be your perfect companion.'],\n",
              "      dtype=object)"
            ]
          },
          "metadata": {},
          "execution_count": 21
        }
      ]
    },
    {
      "cell_type": "code",
      "source": [
        "round(sum([len(i.split()) for i in df.text])/len(df.text))"
      ],
      "metadata": {
        "id": "QbZEtKxeiKIL",
        "colab": {
          "base_uri": "https://localhost:8080/"
        },
        "outputId": "f07694a6-d51a-4066-ee24-1e256f96242a"
      },
      "execution_count": null,
      "outputs": [
        {
          "output_type": "execute_result",
          "data": {
            "text/plain": [
              "114"
            ]
          },
          "metadata": {},
          "execution_count": 22
        }
      ]
    },
    {
      "cell_type": "code",
      "source": [
        "x = [len(i.split()) for i in df.text]"
      ],
      "metadata": {
        "id": "ILjbfNfT_4WK"
      },
      "execution_count": null,
      "outputs": []
    },
    {
      "cell_type": "code",
      "source": [
        "import seaborn as sns\n",
        "sns.kdeplot(x, fill = True)\n",
        "plt.xlim(0, 1000)"
      ],
      "metadata": {
        "id": "mO97sekIAOBY",
        "colab": {
          "base_uri": "https://localhost:8080/",
          "height": 447
        },
        "outputId": "6ca6d705-cf13-4356-f115-1bcfd39e1158"
      },
      "execution_count": null,
      "outputs": [
        {
          "output_type": "execute_result",
          "data": {
            "text/plain": [
              "(0.0, 1000.0)"
            ]
          },
          "metadata": {},
          "execution_count": 24
        },
        {
          "output_type": "display_data",
          "data": {
            "text/plain": [
              "<Figure size 640x480 with 1 Axes>"
            ],
            "image/png": "[encoded data removed]"
          },
          "metadata": {}
        }
      ]
    },
    {
      "cell_type": "code",
      "source": [
        "from tensorflow.keras.layers import TextVectorization\n",
        "text_vectorize = TextVectorization(max_tokens = 30000,\n",
        "                                   output_mode = 'int',\n",
        "                                   output_sequence_length = 114)"
      ],
      "metadata": {
        "id": "IuQ6XwsJbZQv"
      },
      "execution_count": null,
      "outputs": []
    },
    {
      "cell_type": "code",
      "source": [
        "text_vectorize.adapt(x_train)"
      ],
      "metadata": {
        "id": "9tersoNhjmVO"
      },
      "execution_count": null,
      "outputs": []
    },
    {
      "cell_type": "code",
      "source": [
        "random_sentence = random.choice(x_train)\n",
        "print(f\"Original text:\\n{random_sentence}\\\n",
        "      \\n\\nVectorized version:\")\n",
        "text_vectorize([random_sentence])"
      ],
      "metadata": {
        "id": "jzqW9TH1n6L4",
        "colab": {
          "base_uri": "https://localhost:8080/"
        },
        "outputId": "23c6bf22-1c33-4c6b-cf00-bcfd80f0c641"
      },
      "execution_count": null,
      "outputs": [
        {
          "output_type": "stream",
          "name": "stdout",
          "text": [
            "Original text:\n",
            "pasabahce whiskey glasses with beautiful gift box (325ml) set of 6 pieces the şişecam group was established in turkey in 1935. pasabahce is one of the worlds leading glassware brands in the world. with its well designed functional and fashionable items it aims to be a leading “value for money” manufacturer offering excellent value to consumers of all market segments. in the global market pasabahce is specialized for both home use and for the horeca sector hotels restaurants bars and catering services. pasabahce quality is the result of decades of glassware experience and continuous research in the tableware field and maintained through stringent quality controls at all stages of manufacturing and sales service that garnered them an iso 9000 certificate. pasabahce also uses its profound experience to provide its customers with glasses with the right shapes and sizes. whatever your tabletop glassware needs may be pasabahce has it. as it offers everything from tumblers stemglasses water sets ice buckets pitchers ovenwares flower vases coffee and tea glasses mugs condiment holders bowls storage jars decanters plates ice cream cups. most of the items available are standard basic lines but some collections of printed gold rimmed and coloured items are also available. all of these are made with utmost care on design and quality of finished product. selected items are also either semi tempered full tempered andor rim toughened. all of the glasses are hygiene safe for food and beverage use as pasabahce glass is made of very fine quality raw materials and thus is utterly non porous and odour free which prevents bacterial growth for years and years and after many washes.      \n",
            "\n",
            "Vectorized version:\n"
          ]
        },
        {
          "output_type": "execute_result",
          "data": {
            "text/plain": [
              "<tf.Tensor: shape=(1, 114), dtype=int64, numpy=\n",
              "array([[ 4288,  5740,   983,     9,   239,   293,   266,     1,    33,\n",
              "            4,   100,   415,     2, 20124,  1106,    85,  2101,     8,\n",
              "         5323,     8,  7278,  4288,    10,    37,     4,     2,  1328,\n",
              "          673,  1902,  2174,     8,     2,   124,     9,    42,   107,\n",
              "           81,  1195,     3,  1490,   595,    13,  6304,     5,    22,\n",
              "            6,   673, 17676,     7, 18153,   597,  1554,   562,   781,\n",
              "            5,  3153,     4,    25,   937,  3179,     8,     2,  1286,\n",
              "          937,  4288,    10,  4131,     7,   207,    52,    34,     3,\n",
              "            7,     2, 20987,  6324,  2659,  3456,  3399,     3,  7435,\n",
              "         1140,  4288,    35,    10,     2,  2163,     4,  1669,     4,\n",
              "         1902,   146,     3,  2136,   358,     8,     2,  5920,   876,\n",
              "            3,  6062,   168,  4049,    35,  1790,    26,    25,  5797,\n",
              "            4,  1233,     3,  1958,   551,    16]])>"
            ]
          },
          "metadata": {},
          "execution_count": 27
        }
      ]
    },
    {
      "cell_type": "code",
      "source": [
        "# Get the unique words in the vocabulary\n",
        "words_in_vocab = text_vectorize.get_vocabulary()\n",
        "top_5_words = words_in_vocab[:5] # most common tokens (notice the [UNK] token for \"unknown\" words)\n",
        "bottom_5_words = words_in_vocab[-5:] # least common tokens\n",
        "print(f\"Number of words in vocab: {len(words_in_vocab)}\")\n",
        "print(f\"Top 5 most common words: {top_5_words}\")\n",
        "print(f\"Bottom 5 least common words: {bottom_5_words}\")"
      ],
      "metadata": {
        "id": "D0vSaByToGWD",
        "colab": {
          "base_uri": "https://localhost:8080/"
        },
        "outputId": "d4de377c-4140-46ad-f7e8-8c577934db71"
      },
      "execution_count": null,
      "outputs": [
        {
          "output_type": "stream",
          "name": "stdout",
          "text": [
            "Number of words in vocab: 30000\n",
            "Top 5 most common words: ['', '[UNK]', 'the', 'and', 'of']\n",
            "Bottom 5 least common words: ['tonya', 'tomorrow’s', 'tomes', 'tolerant', 'tolerable']\n"
          ]
        }
      ]
    },
    {
      "cell_type": "markdown",
      "source": [
        "## Simple Dense Model"
      ],
      "metadata": {
        "id": "e8zzzAxWol5s"
      }
    },
    {
      "cell_type": "code",
      "source": [
        "import datetime\n",
        "def tensorboard_callbacks(dirname, filename):\n",
        "  log_dir = dirname + '/' + filename + datetime.datetime.now().strftime('%Y%m%d-%H%M%S')\n",
        "  tf_callbacks = tf.keras.callbacks.TensorBoard(\n",
        "      log_dir = log_dir\n",
        "  )\n",
        "  return tf_callbacks\n",
        "\n",
        "save_dir = 'NLP_text_classification'"
      ],
      "metadata": {
        "id": "KyeadrltWRB-"
      },
      "execution_count": null,
      "outputs": []
    },
    {
      "cell_type": "code",
      "source": [
        "from tensorflow.keras import layers\n",
        "input = layers.Input(shape = (1,), dtype = 'string')\n",
        "x = text_vectorize(input)\n",
        "embedding = layers.Embedding(input_dim = 30000,\n",
        "                             output_dim = 128,\n",
        "                             embeddings_initializer = 'uniform',\n",
        "                             input_length = 114,\n",
        "                             name = 'embedding_1')\n",
        "x = embedding(x)\n",
        "x = layers.GlobalAveragePooling1D()(x)\n",
        "output = layers.Dense(4, activation = 'softmax')(x)\n",
        "model_1 = tf.keras.Model(input,output, name = 'model_1')"
      ],
      "metadata": {
        "id": "ZEqbNLrHTQkD"
      },
      "execution_count": null,
      "outputs": []
    },
    {
      "cell_type": "code",
      "source": [
        "model_1.compile(loss = 'sparse_categorical_crossentropy',\n",
        "                optimizer = 'Adam',\n",
        "                metrics = ['accuracy'])"
      ],
      "metadata": {
        "id": "W80OiVEJVHja"
      },
      "execution_count": null,
      "outputs": []
    },
    {
      "cell_type": "code",
      "source": [
        "model_1.summary()"
      ],
      "metadata": {
        "id": "QKN3fzbQVRH1",
        "colab": {
          "base_uri": "https://localhost:8080/"
        },
        "outputId": "8450b6e7-3269-4521-a360-cc2e6849b177"
      },
      "execution_count": null,
      "outputs": [
        {
          "output_type": "stream",
          "name": "stdout",
          "text": [
            "Model: \"model_1\"\n",
            "_________________________________________________________________\n",
            " Layer (type)                Output Shape              Param #   \n",
            "=================================================================\n",
            " input_15 (InputLayer)       [(None, 1)]               0         \n",
            "                                                                 \n",
            " text_vectorization (TextVe  (None, 114)               0         \n",
            " ctorization)                                                    \n",
            "                                                                 \n",
            " embedding_1 (Embedding)     (None, 114, 128)          3840000   \n",
            "                                                                 \n",
            " global_average_pooling1d_2  (None, 128)               0         \n",
            "  (GlobalAveragePooling1D)                                       \n",
            "                                                                 \n",
            " dense_28 (Dense)            (None, 4)                 516       \n",
            "                                                                 \n",
            "=================================================================\n",
            "Total params: 3840516 (14.65 MB)\n",
            "Trainable params: 3840516 (14.65 MB)\n",
            "Non-trainable params: 0 (0.00 Byte)\n",
            "_________________________________________________________________\n"
          ]
        }
      ]
    },
    {
      "cell_type": "code",
      "source": [
        "history = model_1.fit(x_train,\n",
        "                      y_train,\n",
        "                      epochs = 5,\n",
        "                      validation_data = (x_test, y_test),\n",
        "                      callbacks = [tensorboard_callbacks(save_dir, 'model_1_simple')])"
      ],
      "metadata": {
        "id": "xQK4McI5VzWY",
        "colab": {
          "base_uri": "https://localhost:8080/"
        },
        "outputId": "c69c6ac2-acfa-483b-882f-d40e0bb216a5"
      },
      "execution_count": null,
      "outputs": [
        {
          "output_type": "stream",
          "name": "stdout",
          "text": [
            "Epoch 1/5\n",
            "1103/1103 [==============================] - 83s 75ms/step - loss: 0.5728 - accuracy: 0.8275 - val_loss: 0.2763 - val_accuracy: 0.9474\n",
            "Epoch 2/5\n",
            "1103/1103 [==============================] - 73s 66ms/step - loss: 0.2037 - accuracy: 0.9559 - val_loss: 0.1906 - val_accuracy: 0.9604\n",
            "Epoch 3/5\n",
            "1103/1103 [==============================] - 70s 63ms/step - loss: 0.1276 - accuracy: 0.9718 - val_loss: 0.1550 - val_accuracy: 0.9652\n",
            "Epoch 4/5\n",
            "1103/1103 [==============================] - 71s 64ms/step - loss: 0.0848 - accuracy: 0.9807 - val_loss: 0.1362 - val_accuracy: 0.9699\n",
            "Epoch 5/5\n",
            "1103/1103 [==============================] - 70s 63ms/step - loss: 0.0585 - accuracy: 0.9877 - val_loss: 0.1330 - val_accuracy: 0.9721\n"
          ]
        }
      ]
    },
    {
      "cell_type": "code",
      "source": [
        "pd.DataFrame(history.history).plot()"
      ],
      "metadata": {
        "id": "PmStIRkyXNFz",
        "colab": {
          "base_uri": "https://localhost:8080/",
          "height": 447
        },
        "outputId": "133bb4e2-f146-4629-a785-ac36cfcf1ff0"
      },
      "execution_count": null,
      "outputs": [
        {
          "output_type": "execute_result",
          "data": {
            "text/plain": [
              "<Axes: >"
            ]
          },
          "metadata": {},
          "execution_count": 117
        },
        {
          "output_type": "display_data",
          "data": {
            "text/plain": [
              "<Figure size 640x480 with 1 Axes>"
            ],
            "image/png": "[encoded data removed]"
          },
          "metadata": {}
        }
      ]
    },
    {
      "cell_type": "code",
      "source": [
        "pred_prob = model_1.predict(x_test)\n",
        "pred_prob[:10]"
      ],
      "metadata": {
        "colab": {
          "base_uri": "https://localhost:8080/"
        },
        "id": "ZY4YYC5S9bWi",
        "outputId": "7c617aa8-dedd-4abc-ba26-fb1ab18d2b43"
      },
      "execution_count": null,
      "outputs": [
        {
          "output_type": "stream",
          "name": "stdout",
          "text": [
            "473/473 [==============================] - 2s 4ms/step\n"
          ]
        },
        {
          "output_type": "execute_result",
          "data": {
            "text/plain": [
              "array([[5.9307873e-05, 9.9816823e-01, 2.2397653e-04, 1.5485163e-03],\n",
              "       [6.4585097e-02, 9.8585570e-03, 5.2016277e-02, 8.7354016e-01],\n",
              "       [9.9999076e-01, 1.8652980e-08, 2.0958373e-06, 7.0317242e-06],\n",
              "       [3.4784156e-05, 9.9992770e-01, 8.0272112e-06, 2.9428982e-05],\n",
              "       [1.2095344e-10, 3.4817590e-11, 9.9999982e-01, 9.3585783e-08],\n",
              "       [1.1191413e-10, 2.4733179e-11, 2.7577326e-04, 9.9972427e-01],\n",
              "       [9.2659110e-01, 6.4388006e-03, 1.6510075e-02, 5.0460033e-02],\n",
              "       [1.5089649e-04, 9.9737829e-01, 1.0146075e-03, 1.4561593e-03],\n",
              "       [9.9351525e-01, 7.7357958e-04, 2.6589555e-03, 3.0521178e-03],\n",
              "       [2.7334271e-04, 8.5359170e-05, 6.9916144e-02, 9.2972511e-01]],\n",
              "      dtype=float32)"
            ]
          },
          "metadata": {},
          "execution_count": 118
        }
      ]
    },
    {
      "cell_type": "code",
      "source": [
        "y_true = y_test\n",
        "y_pred = pred_prob.argmax(axis = 1)"
      ],
      "metadata": {
        "id": "ZSs4kpyk91v4"
      },
      "execution_count": null,
      "outputs": []
    },
    {
      "cell_type": "code",
      "source": [
        "from sklearn.metrics import classification_report, confusion_matrix, ConfusionMatrixDisplay\n",
        "print(classification_report(y_true = y_true,\n",
        "                            y_pred = y_pred))"
      ],
      "metadata": {
        "colab": {
          "base_uri": "https://localhost:8080/"
        },
        "id": "AQAPnoVF9rdW",
        "outputId": "c39ec04a-2850-485c-f737-aa9c34d4b075"
      },
      "execution_count": null,
      "outputs": [
        {
          "output_type": "stream",
          "name": "stdout",
          "text": [
            "              precision    recall  f1-score   support\n",
            "\n",
            "           0       0.98      0.96      0.97      3551\n",
            "           1       0.99      0.97      0.98      2580\n",
            "           2       0.97      0.96      0.97      3152\n",
            "           3       0.96      0.98      0.97      5845\n",
            "\n",
            "    accuracy                           0.97     15128\n",
            "   macro avg       0.97      0.97      0.97     15128\n",
            "weighted avg       0.97      0.97      0.97     15128\n",
            "\n"
          ]
        }
      ]
    },
    {
      "cell_type": "code",
      "source": [
        "cm = confusion_matrix(y_true,\n",
        "                      y_pred)\n",
        "cm_plt = ConfusionMatrixDisplay(cm, display_labels = df['label'].unique())\n",
        "cm_plt.plot(cmap = 'Blues', xticks_rotation = 'vertical')"
      ],
      "metadata": {
        "colab": {
          "base_uri": "https://localhost:8080/",
          "height": 611
        },
        "id": "PjsfzJwa_t9W",
        "outputId": "c202e2e1-4191-4077-bbd5-d6fd71d519fe"
      },
      "execution_count": null,
      "outputs": [
        {
          "output_type": "execute_result",
          "data": {
            "text/plain": [
              "<sklearn.metrics._plot.confusion_matrix.ConfusionMatrixDisplay at 0x79508b398df0>"
            ]
          },
          "metadata": {},
          "execution_count": 67
        },
        {
          "output_type": "display_data",
          "data": {
            "text/plain": [
              "<Figure size 640x480 with 2 Axes>"
            ],
            "image/png": "[encoded data removed]"
          },
          "metadata": {}
        }
      ]
    },
    {
      "cell_type": "markdown",
      "source": [
        "## Naive Bayes model"
      ],
      "metadata": {
        "id": "FDDlfiHB_Lbs"
      }
    },
    {
      "cell_type": "code",
      "source": [
        "from sklearn.feature_extraction.text import TfidfVectorizer\n",
        "from sklearn.naive_bayes import MultinomialNB\n",
        "from sklearn.pipeline import Pipeline\n",
        "\n",
        "model_0 = Pipeline([\n",
        "    ('tfidf', TfidfVectorizer()),\n",
        "    ('clf', MultinomialNB())\n",
        "])\n",
        "\n",
        "model_0.fit(x_train, y_train)"
      ],
      "metadata": {
        "id": "WRmMr0ebUzRM",
        "colab": {
          "base_uri": "https://localhost:8080/",
          "height": 124
        },
        "outputId": "48af534d-389d-4beb-8573-52182a0ddf65"
      },
      "execution_count": null,
      "outputs": [
        {
          "output_type": "execute_result",
          "data": {
            "text/plain": [
              "Pipeline(steps=[('tfidf', TfidfVectorizer()), ('clf', MultinomialNB())])"
            ],
            "text/html": [
              "<style>#sk-container-id-1 {color: black;background-color: white;}#sk-container-id-1 pre{padding: 0;}#sk-container-id-1 div.sk-toggleable {background-color: white;}#sk-container-id-1 label.sk-toggleable__label {cursor: pointer;display: block;width: 100%;margin-bottom: 0;padding: 0.3em;box-sizing: border-box;text-align: center;}#sk-container-id-1 label.sk-toggleable__label-arrow:before {content: \"▸\";float: left;margin-right: 0.25em;color: #696969;}#sk-container-id-1 label.sk-toggleable__label-arrow:hover:before {color: black;}#sk-container-id-1 div.sk-estimator:hover label.sk-toggleable__label-arrow:before {color: black;}#sk-container-id-1 div.sk-toggleable__content {max-height: 0;max-width: 0;overflow: hidden;text-align: left;background-color: #f0f8ff;}#sk-container-id-1 div.sk-toggleable__content pre {margin: 0.2em;color: black;border-radius: 0.25em;background-color: #f0f8ff;}#sk-container-id-1 input.sk-toggleable__control:checked~div.sk-toggleable__content {max-height: 200px;max-width: 100%;overflow: auto;}#sk-container-id-1 input.sk-toggleable__control:checked~label.sk-toggleable__label-arrow:before {content: \"▾\";}#sk-container-id-1 div.sk-estimator input.sk-toggleable__control:checked~label.sk-toggleable__label {background-color: #d4ebff;}#sk-container-id-1 div.sk-label input.sk-toggleable__control:checked~label.sk-toggleable__label {background-color: #d4ebff;}#sk-container-id-1 input.sk-hidden--visually {border: 0;clip: rect(1px 1px 1px 1px);clip: rect(1px, 1px, 1px, 1px);height: 1px;margin: -1px;overflow: hidden;padding: 0;position: absolute;width: 1px;}#sk-container-id-1 div.sk-estimator {font-family: monospace;background-color: #f0f8ff;border: 1px dotted black;border-radius: 0.25em;box-sizing: border-box;margin-bottom: 0.5em;}#sk-container-id-1 div.sk-estimator:hover {background-color: #d4ebff;}#sk-container-id-1 div.sk-parallel-item::after {content: \"\";width: 100%;border-bottom: 1px solid gray;flex-grow: 1;}#sk-container-id-1 div.sk-label:hover label.sk-toggleable__label {background-color: #d4ebff;}#sk-container-id-1 div.sk-serial::before {content: \"\";position: absolute;border-left: 1px solid gray;box-sizing: border-box;top: 0;bottom: 0;left: 50%;z-index: 0;}#sk-container-id-1 div.sk-serial {display: flex;flex-direction: column;align-items: center;background-color: white;padding-right: 0.2em;padding-left: 0.2em;position: relative;}#sk-container-id-1 div.sk-item {position: relative;z-index: 1;}#sk-container-id-1 div.sk-parallel {display: flex;align-items: stretch;justify-content: center;background-color: white;position: relative;}#sk-container-id-1 div.sk-item::before, #sk-container-id-1 div.sk-parallel-item::before {content: \"\";position: absolute;border-left: 1px solid gray;box-sizing: border-box;top: 0;bottom: 0;left: 50%;z-index: -1;}#sk-container-id-1 div.sk-parallel-item {display: flex;flex-direction: column;z-index: 1;position: relative;background-color: white;}#sk-container-id-1 div.sk-parallel-item:first-child::after {align-self: flex-end;width: 50%;}#sk-container-id-1 div.sk-parallel-item:last-child::after {align-self: flex-start;width: 50%;}#sk-container-id-1 div.sk-parallel-item:only-child::after {width: 0;}#sk-container-id-1 div.sk-dashed-wrapped {border: 1px dashed gray;margin: 0 0.4em 0.5em 0.4em;box-sizing: border-box;padding-bottom: 0.4em;background-color: white;}#sk-container-id-1 div.sk-label label {font-family: monospace;font-weight: bold;display: inline-block;line-height: 1.2em;}#sk-container-id-1 div.sk-label-container {text-align: center;}#sk-container-id-1 div.sk-container {/* jupyter's `normalize.less` sets `[hidden] { display: none; }` but bootstrap.min.css set `[hidden] { display: none !important; }` so we also need the `!important` here to be able to override the default hidden behavior on the sphinx rendered scikit-learn.org. See: https://github.com/scikit-learn/scikit-learn/issues/21755 */display: inline-block !important;position: relative;}#sk-container-id-1 div.sk-text-repr-fallback {display: none;}</style><div id=\"sk-container-id-1\" class=\"sk-top-container\"><div class=\"sk-text-repr-fallback\"><pre>Pipeline(steps=[(&#x27;tfidf&#x27;, TfidfVectorizer()), (&#x27;clf&#x27;, MultinomialNB())])</pre><b>In a Jupyter environment, please rerun this cell to show the HTML representation or trust the notebook. <br />On GitHub, the HTML representation is unable to render, please try loading this page with nbviewer.org.</b></div><div class=\"sk-container\" hidden><div class=\"sk-item sk-dashed-wrapped\"><div class=\"sk-label-container\"><div class=\"sk-label sk-toggleable\"><input class=\"sk-toggleable__control sk-hidden--visually\" id=\"sk-estimator-id-1\" type=\"checkbox\" ><label for=\"sk-estimator-id-1\" class=\"sk-toggleable__label sk-toggleable__label-arrow\">Pipeline</label><div class=\"sk-toggleable__content\"><pre>Pipeline(steps=[(&#x27;tfidf&#x27;, TfidfVectorizer()), (&#x27;clf&#x27;, MultinomialNB())])</pre></div></div></div><div class=\"sk-serial\"><div class=\"sk-item\"><div class=\"sk-estimator sk-toggleable\"><input class=\"sk-toggleable__control sk-hidden--visually\" id=\"sk-estimator-id-2\" type=\"checkbox\" ><label for=\"sk-estimator-id-2\" class=\"sk-toggleable__label sk-toggleable__label-arrow\">TfidfVectorizer</label><div class=\"sk-toggleable__content\"><pre>TfidfVectorizer()</pre></div></div></div><div class=\"sk-item\"><div class=\"sk-estimator sk-toggleable\"><input class=\"sk-toggleable__control sk-hidden--visually\" id=\"sk-estimator-id-3\" type=\"checkbox\" ><label for=\"sk-estimator-id-3\" class=\"sk-toggleable__label sk-toggleable__label-arrow\">MultinomialNB</label><div class=\"sk-toggleable__content\"><pre>MultinomialNB()</pre></div></div></div></div></div></div></div>"
            ]
          },
          "metadata": {},
          "execution_count": 121
        }
      ]
    },
    {
      "cell_type": "code",
      "source": [
        "accuracy = model_0.score(x_test, y_test)\n",
        "print(f'Our Baseline Accuracy is {accuracy * 100: .2f}%')"
      ],
      "metadata": {
        "id": "FIQg9kSVkt-C",
        "colab": {
          "base_uri": "https://localhost:8080/"
        },
        "outputId": "dcedeb0a-0c64-4771-89bf-b8a4f025da89"
      },
      "execution_count": null,
      "outputs": [
        {
          "output_type": "stream",
          "name": "stdout",
          "text": [
            "Our Baseline Accuracy is  93.58%\n"
          ]
        }
      ]
    },
    {
      "cell_type": "code",
      "source": [
        "y_pred_naive = model_0.predict(x_test)\n",
        "y_pred_naive[:10]"
      ],
      "metadata": {
        "id": "QDfGRQZI4wjq",
        "colab": {
          "base_uri": "https://localhost:8080/"
        },
        "outputId": "250d14e2-a726-4327-d6ed-aa9cce84ba58"
      },
      "execution_count": null,
      "outputs": [
        {
          "output_type": "execute_result",
          "data": {
            "text/plain": [
              "array([1, 3, 0, 1, 2, 3, 0, 1, 0, 3])"
            ]
          },
          "metadata": {},
          "execution_count": 123
        }
      ]
    },
    {
      "cell_type": "code",
      "source": [
        "print(classification_report(y_test, y_pred_naive))"
      ],
      "metadata": {
        "colab": {
          "base_uri": "https://localhost:8080/"
        },
        "id": "vbSZffWdBev2",
        "outputId": "3ecf4d7c-a2be-44c9-f73f-33e8add9878c"
      },
      "execution_count": null,
      "outputs": [
        {
          "output_type": "stream",
          "name": "stdout",
          "text": [
            "              precision    recall  f1-score   support\n",
            "\n",
            "           0       0.97      0.91      0.94      3551\n",
            "           1       0.98      0.93      0.95      2580\n",
            "           2       0.96      0.89      0.92      3152\n",
            "           3       0.89      0.98      0.93      5845\n",
            "\n",
            "    accuracy                           0.94     15128\n",
            "   macro avg       0.95      0.93      0.94     15128\n",
            "weighted avg       0.94      0.94      0.94     15128\n",
            "\n"
          ]
        }
      ]
    },
    {
      "cell_type": "code",
      "source": [
        "cm = confusion_matrix(y_true, y_pred_naive)\n",
        "cmd = ConfusionMatrixDisplay(cm, display_labels = df['label'].unique())\n",
        "cmd.plot(cmap = 'Blues', xticks_rotation = 'vertical')"
      ],
      "metadata": {
        "colab": {
          "base_uri": "https://localhost:8080/",
          "height": 611
        },
        "id": "StoIJ3BFBoxn",
        "outputId": "f229163c-b559-4609-e7d6-78d35e50790f"
      },
      "execution_count": null,
      "outputs": [
        {
          "output_type": "execute_result",
          "data": {
            "text/plain": [
              "<sklearn.metrics._plot.confusion_matrix.ConfusionMatrixDisplay at 0x7f180c40d9c0>"
            ]
          },
          "metadata": {},
          "execution_count": 125
        },
        {
          "output_type": "display_data",
          "data": {
            "text/plain": [
              "<Figure size 640x480 with 2 Axes>"
            ],
            "image/png": "[encoded data removed]"
          },
          "metadata": {}
        }
      ]
    },
    {
      "cell_type": "markdown",
      "source": [
        "## Conv1D"
      ],
      "metadata": {
        "id": "C5J1UdhBEJYd"
      }
    },
    {
      "cell_type": "code",
      "source": [
        "from tensorflow.keras import layers\n",
        "\n",
        "input = layers.Input(shape = (1,), dtype = 'string', name = 'input_layer')\n",
        "x = text_vectorize(input)\n",
        "embed = layers.Embedding(input_dim = 30000,\n",
        "                         output_dim = 256,\n",
        "                         embeddings_initializer = 'uniform',\n",
        "                         input_length = 114,\n",
        "                         name = 'embedding_1')\n",
        "x = embed(x)\n",
        "x = layers.Conv1D(filters = 32, kernel_size = 5, activation = 'relu')(x)\n",
        "x = layers.GlobalMaxPool1D(name = 'globalmaxpooling1D')(x)\n",
        "output = layers.Dense(4, activation = 'softmax', name = 'output_layer')(x)\n",
        "model_2 = tf.keras.Model(input, output)\n",
        "\n",
        "model_2.compile(loss = 'sparse_categorical_crossentropy',\n",
        "                optimizer = 'Adam',\n",
        "                metrics = ['accuracy'])\n",
        "\n",
        "model_2.summary()"
      ],
      "metadata": {
        "id": "aV9gB3X4lwzx",
        "colab": {
          "base_uri": "https://localhost:8080/"
        },
        "outputId": "1e1c6866-5dcb-4159-8c32-a52bc8f59b66"
      },
      "execution_count": null,
      "outputs": [
        {
          "output_type": "stream",
          "name": "stdout",
          "text": [
            "Model: \"model\"\n",
            "_________________________________________________________________\n",
            " Layer (type)                Output Shape              Param #   \n",
            "=================================================================\n",
            " input_layer (InputLayer)    [(None, 1)]               0         \n",
            "                                                                 \n",
            " text_vectorization (TextVe  (None, 114)               0         \n",
            " ctorization)                                                    \n",
            "                                                                 \n",
            " embedding_1 (Embedding)     (None, 114, 256)          7680000   \n",
            "                                                                 \n",
            " conv1d (Conv1D)             (None, 110, 32)           40992     \n",
            "                                                                 \n",
            " globalmaxpooling1D (Global  (None, 32)                0         \n",
            " MaxPooling1D)                                                   \n",
            "                                                                 \n",
            " output_layer (Dense)        (None, 4)                 132       \n",
            "                                                                 \n",
            "=================================================================\n",
            "Total params: 7721124 (29.45 MB)\n",
            "Trainable params: 7721124 (29.45 MB)\n",
            "Non-trainable params: 0 (0.00 Byte)\n",
            "_________________________________________________________________\n"
          ]
        }
      ]
    },
    {
      "cell_type": "code",
      "source": [
        "history_2 = model_2.fit(x_train,\n",
        "                        y_train,\n",
        "                        epochs = 5,\n",
        "                        validation_data = (x_test, y_test),\n",
        "                        callbacks = [tensorboard_callbacks(save_dir, 'model_2_conv1d')])"
      ],
      "metadata": {
        "colab": {
          "base_uri": "https://localhost:8080/"
        },
        "id": "hbnYq3iNrJq-",
        "outputId": "6cd7ed63-051a-46ec-c3e4-2f4bc8a8d253"
      },
      "execution_count": null,
      "outputs": [
        {
          "output_type": "stream",
          "name": "stdout",
          "text": [
            "Epoch 1/5\n",
            "1103/1103 [==============================] - 176s 159ms/step - loss: 0.2605 - accuracy: 0.9148 - val_loss: 0.1070 - val_accuracy: 0.9710\n",
            "Epoch 2/5\n",
            "1103/1103 [==============================] - 175s 159ms/step - loss: 0.0454 - accuracy: 0.9881 - val_loss: 0.0829 - val_accuracy: 0.9783\n",
            "Epoch 3/5\n",
            "1103/1103 [==============================] - 174s 158ms/step - loss: 0.0133 - accuracy: 0.9971 - val_loss: 0.0967 - val_accuracy: 0.9782\n",
            "Epoch 4/5\n",
            "1103/1103 [==============================] - 174s 158ms/step - loss: 0.0091 - accuracy: 0.9983 - val_loss: 0.0949 - val_accuracy: 0.9801\n",
            "Epoch 5/5\n",
            "1103/1103 [==============================] - 173s 157ms/step - loss: 0.0070 - accuracy: 0.9989 - val_loss: 0.1045 - val_accuracy: 0.9801\n"
          ]
        }
      ]
    },
    {
      "cell_type": "markdown",
      "source": [
        "## Transfer Learning"
      ],
      "metadata": {
        "id": "ueuihonbrz0K"
      }
    },
    {
      "cell_type": "code",
      "source": [
        "import tensorflow_hub as hub"
      ],
      "metadata": {
        "id": "wP2nVbVL2yQd"
      },
      "execution_count": null,
      "outputs": []
    },
    {
      "cell_type": "code",
      "source": [
        "from tensorflow.keras.models import Sequential\n",
        "from tensorflow.keras import layers\n",
        "base_embed = hub.KerasLayer('https://tfhub.dev/google/Wiki-words-500/2',\n",
        "                            input_shape = [],\n",
        "                            dtype = tf.string,\n",
        "                            trainable = False,\n",
        "                            name = 'word2vec')\n",
        "model_3 = Sequential([\n",
        "    base_embed,\n",
        "    layers.Dense(64, activation = 'relu'),\n",
        "    layers.Dense(4, activation = 'softmax')\n",
        "], name = 'model_transfer_learning')\n",
        "\n",
        "model_3.compile(loss = 'sparse_categorical_crossentropy',\n",
        "                optimizer = 'Adam',\n",
        "                metrics = ['accuracy'])"
      ],
      "metadata": {
        "id": "oODzta96JImp"
      },
      "execution_count": null,
      "outputs": []
    },
    {
      "cell_type": "code",
      "source": [
        "model_3.summary()"
      ],
      "metadata": {
        "colab": {
          "base_uri": "https://localhost:8080/"
        },
        "id": "sM2-SLPN0DQH",
        "outputId": "1625035a-d680-4c20-a9b5-f974e7930fbf"
      },
      "execution_count": null,
      "outputs": [
        {
          "output_type": "stream",
          "name": "stdout",
          "text": [
            "Model: \"model_transfer_learning\"\n",
            "_________________________________________________________________\n",
            " Layer (type)                Output Shape              Param #   \n",
            "=================================================================\n",
            " word2vec (KerasLayer)       (None, 500)               504687500 \n",
            "                                                                 \n",
            " dense_29 (Dense)            (None, 64)                32064     \n",
            "                                                                 \n",
            " dense_30 (Dense)            (None, 4)                 260       \n",
            "                                                                 \n",
            "=================================================================\n",
            "Total params: 504719824 (1.88 GB)\n",
            "Trainable params: 32324 (126.27 KB)\n",
            "Non-trainable params: 504687500 (1.88 GB)\n",
            "_________________________________________________________________\n"
          ]
        }
      ]
    },
    {
      "cell_type": "code",
      "source": [
        "history_3 = model_3.fit(x_train,\n",
        "                        y_train,\n",
        "                        validation_data = (x_test, y_test),\n",
        "                        epochs = 5,\n",
        "                        callbacks = [tensorboard_callbacks('NLP_text_classification', 'transfer_learning_word2vec')])"
      ],
      "metadata": {
        "colab": {
          "base_uri": "https://localhost:8080/"
        },
        "id": "Q3EvAs0-0QAB",
        "outputId": "94520a76-e1aa-4db7-f2f9-35288b2ea736"
      },
      "execution_count": null,
      "outputs": [
        {
          "output_type": "stream",
          "name": "stdout",
          "text": [
            "Epoch 1/5\n",
            "1103/1103 [==============================] - 10s 8ms/step - loss: 0.3708 - accuracy: 0.8949 - val_loss: 0.2876 - val_accuracy: 0.9177\n",
            "Epoch 2/5\n",
            "1103/1103 [==============================] - 9s 8ms/step - loss: 0.2691 - accuracy: 0.9251 - val_loss: 0.2601 - val_accuracy: 0.9254\n",
            "Epoch 3/5\n",
            "1103/1103 [==============================] - 10s 9ms/step - loss: 0.2472 - accuracy: 0.9297 - val_loss: 0.2457 - val_accuracy: 0.9293\n",
            "Epoch 4/5\n",
            "1103/1103 [==============================] - 9s 8ms/step - loss: 0.2280 - accuracy: 0.9365 - val_loss: 0.2319 - val_accuracy: 0.9350\n",
            "Epoch 5/5\n",
            "1103/1103 [==============================] - 8s 8ms/step - loss: 0.2142 - accuracy: 0.9395 - val_loss: 0.2297 - val_accuracy: 0.9337\n"
          ]
        }
      ]
    },
    {
      "cell_type": "code",
      "source": [
        "embed_weights = model_3.get_layer(\"word2vec\").get_weights()[0]"
      ],
      "metadata": {
        "id": "H0fZBa3f1ahD"
      },
      "execution_count": null,
      "outputs": []
    },
    {
      "cell_type": "code",
      "source": [
        "# Code below is adapted from: https://www.tensorflow.org/tutorials/text/word_embeddings#retrieve_the_trained_word_embeddings_and_save_them_to_disk\n",
        "import io\n",
        "\n",
        "# Create output writers\n",
        "out_v = io.open(\"embedding_vectors.tsv\", \"w\", encoding=\"utf-8\")\n",
        "out_m = io.open(\"embedding_metadata.tsv\", \"w\", encoding=\"utf-8\")\n",
        "\n",
        "# Write embedding vectors and words to file\n",
        "for num, word in enumerate(words_in_vocab):\n",
        "  if num == 0:\n",
        "     continue # skip padding token\n",
        "  vec = embed_weights[num]\n",
        "  out_m.write(word + \"\\n\") # write words to file\n",
        "  out_v.write(\"\\t\".join([str(x) for x in vec]) + \"\\n\") # write corresponding word vector to file\n",
        "out_v.close()\n",
        "out_m.close()\n",
        "\n",
        "# Download files locally to upload to Embedding Projector\n",
        "try:\n",
        "  from google.colab import files\n",
        "except ImportError:\n",
        "  pass\n",
        "else:\n",
        "  files.download(\"embedding_vectors.tsv\")\n",
        "  files.download(\"embedding_metadata.tsv\")"
      ],
      "metadata": {
        "colab": {
          "base_uri": "https://localhost:8080/",
          "height": 17
        },
        "id": "sRt2Ygwa0uxV",
        "outputId": "b5f5265a-273f-43cb-c1d4-7922c83af14c"
      },
      "execution_count": null,
      "outputs": [
        {
          "output_type": "display_data",
          "data": {
            "text/plain": [
              "<IPython.core.display.Javascript object>"
            ],
            "application/javascript": [
              "\n",
              "    async function download(id, filename, size) {\n",
              "      if (!google.colab.kernel.accessAllowed) {\n",
              "        return;\n",
              "      }\n",
              "      const div = document.createElement('div');\n",
              "      const label = document.createElement('label');\n",
              "      label.textContent = `Downloading \"${filename}\": `;\n",
              "      div.appendChild(label);\n",
              "      const progress = document.createElement('progress');\n",
              "      progress.max = size;\n",
              "      div.appendChild(progress);\n",
              "      document.body.appendChild(div);\n",
              "\n",
              "      const buffers = [];\n",
              "      let downloaded = 0;\n",
              "\n",
              "      const channel = await google.colab.kernel.comms.open(id);\n",
              "      // Send a message to notify the kernel that we're ready.\n",
              "      channel.send({})\n",
              "\n",
              "      for await (const message of channel.messages) {\n",
              "        // Send a message to notify the kernel that we're ready.\n",
              "        channel.send({})\n",
              "        if (message.buffers) {\n",
              "          for (const buffer of message.buffers) {\n",
              "            buffers.push(buffer);\n",
              "            downloaded += buffer.byteLength;\n",
              "            progress.value = downloaded;\n",
              "          }\n",
              "        }\n",
              "      }\n",
              "      const blob = new Blob(buffers, {type: 'application/binary'});\n",
              "      const a = document.createElement('a');\n",
              "      a.href = window.URL.createObjectURL(blob);\n",
              "      a.download = filename;\n",
              "      div.appendChild(a);\n",
              "      a.click();\n",
              "      div.remove();\n",
              "    }\n",
              "  "
            ]
          },
          "metadata": {}
        },
        {
          "output_type": "display_data",
          "data": {
            "text/plain": [
              "<IPython.core.display.Javascript object>"
            ],
            "application/javascript": [
              "download(\"download_0e27d3b6-51eb-41ae-a6b6-05a5c3582eac\", \"embedding_vectors.tsv\", 184033446)"
            ]
          },
          "metadata": {}
        },
        {
          "output_type": "display_data",
          "data": {
            "text/plain": [
              "<IPython.core.display.Javascript object>"
            ],
            "application/javascript": [
              "\n",
              "    async function download(id, filename, size) {\n",
              "      if (!google.colab.kernel.accessAllowed) {\n",
              "        return;\n",
              "      }\n",
              "      const div = document.createElement('div');\n",
              "      const label = document.createElement('label');\n",
              "      label.textContent = `Downloading \"${filename}\": `;\n",
              "      div.appendChild(label);\n",
              "      const progress = document.createElement('progress');\n",
              "      progress.max = size;\n",
              "      div.appendChild(progress);\n",
              "      document.body.appendChild(div);\n",
              "\n",
              "      const buffers = [];\n",
              "      let downloaded = 0;\n",
              "\n",
              "      const channel = await google.colab.kernel.comms.open(id);\n",
              "      // Send a message to notify the kernel that we're ready.\n",
              "      channel.send({})\n",
              "\n",
              "      for await (const message of channel.messages) {\n",
              "        // Send a message to notify the kernel that we're ready.\n",
              "        channel.send({})\n",
              "        if (message.buffers) {\n",
              "          for (const buffer of message.buffers) {\n",
              "            buffers.push(buffer);\n",
              "            downloaded += buffer.byteLength;\n",
              "            progress.value = downloaded;\n",
              "          }\n",
              "        }\n",
              "      }\n",
              "      const blob = new Blob(buffers, {type: 'application/binary'});\n",
              "      const a = document.createElement('a');\n",
              "      a.href = window.URL.createObjectURL(blob);\n",
              "      a.download = filename;\n",
              "      div.appendChild(a);\n",
              "      a.click();\n",
              "      div.remove();\n",
              "    }\n",
              "  "
            ]
          },
          "metadata": {}
        },
        {
          "output_type": "display_data",
          "data": {
            "text/plain": [
              "<IPython.core.display.Javascript object>"
            ],
            "application/javascript": [
              "download(\"download_2162f70a-f092-44d6-adf6-c22ca67420a3\", \"embedding_metadata.tsv\", 240820)"
            ]
          },
          "metadata": {}
        }
      ]
    },
    {
      "cell_type": "markdown",
      "source": [
        "## LSTM Model"
      ],
      "metadata": {
        "id": "qdkm6ZTe3o_d"
      }
    },
    {
      "cell_type": "code",
      "source": [
        "tf.random.set_seed(42)\n",
        "\n",
        "embed_1 = layers.Embedding(input_dim = 30000,\n",
        "                           output_dim = 128,\n",
        "                           embeddings_initializer = 'uniform',\n",
        "                           input_length = 114,\n",
        "                           name = 'embedding_2')\n",
        "\n",
        "input_text = layers.Input(shape = (1,), dtype = 'string', name = 'input_layer')\n",
        "x = text_vectorize(input_text)\n",
        "x = embed_1(x)\n",
        "print(x.shape)\n",
        "x = layers.LSTM(64, return_sequences = True)(x)\n",
        "x = layers.LSTM(64)(x)\n",
        "print(x.shape)\n",
        "x = layers.Dense(64, activation = 'relu')(x)\n",
        "output = layers.Dense(4, activation = 'softmax', name = 'output_layer')(x)\n",
        "\n",
        "model_4 = tf.keras.Model(input_text, output, name = 'model_lstm')"
      ],
      "metadata": {
        "colab": {
          "base_uri": "https://localhost:8080/"
        },
        "id": "U91pxIby34TZ",
        "outputId": "5caae282-4b9c-4710-f23b-4eeb5f255208"
      },
      "execution_count": null,
      "outputs": [
        {
          "output_type": "stream",
          "name": "stdout",
          "text": [
            "(None, 114, 128)\n",
            "(None, 64)\n"
          ]
        }
      ]
    },
    {
      "cell_type": "code",
      "source": [
        "model_4.summary()"
      ],
      "metadata": {
        "colab": {
          "base_uri": "https://localhost:8080/"
        },
        "id": "W_W_E8gw7KVm",
        "outputId": "e10c832c-12ba-431f-88c1-30646944b88f"
      },
      "execution_count": null,
      "outputs": [
        {
          "output_type": "stream",
          "name": "stdout",
          "text": [
            "Model: \"model_lstm\"\n",
            "_________________________________________________________________\n",
            " Layer (type)                Output Shape              Param #   \n",
            "=================================================================\n",
            " input_layer (InputLayer)    [(None, 1)]               0         \n",
            "                                                                 \n",
            " text_vectorization (TextVe  (None, 114)               0         \n",
            " ctorization)                                                    \n",
            "                                                                 \n",
            " embedding_2 (Embedding)     (None, 114, 128)          3840000   \n",
            "                                                                 \n",
            " lstm_26 (LSTM)              (None, 114, 64)           49408     \n",
            "                                                                 \n",
            " lstm_27 (LSTM)              (None, 64)                33024     \n",
            "                                                                 \n",
            " dense_23 (Dense)            (None, 64)                4160      \n",
            "                                                                 \n",
            " output_layer (Dense)        (None, 4)                 260       \n",
            "                                                                 \n",
            "=================================================================\n",
            "Total params: 3926852 (14.98 MB)\n",
            "Trainable params: 3926852 (14.98 MB)\n",
            "Non-trainable params: 0 (0.00 Byte)\n",
            "_________________________________________________________________\n"
          ]
        }
      ]
    },
    {
      "cell_type": "code",
      "source": [
        "model_4.compile(loss = 'sparse_categorical_crossentropy',\n",
        "                optimizer = 'Adam',\n",
        "                metrics = ['accuracy'])"
      ],
      "metadata": {
        "id": "Dgx_ktUtDkfy"
      },
      "execution_count": null,
      "outputs": []
    },
    {
      "cell_type": "code",
      "source": [
        "history_4 = model_4.fit(x_train,\n",
        "                        y_train,\n",
        "                        validation_data = (x_test, y_test),\n",
        "                        epochs = 5,\n",
        "                        callbacks = [tensorboard_callbacks('NLP_text_classification', 'model_4_lstm')])"
      ],
      "metadata": {
        "colab": {
          "base_uri": "https://localhost:8080/"
        },
        "id": "US1ui5ut-4tn",
        "outputId": "948f1de5-27c4-4603-c02b-dcf3ed3a1858"
      },
      "execution_count": null,
      "outputs": [
        {
          "output_type": "stream",
          "name": "stdout",
          "text": [
            "Epoch 1/5\n",
            "1103/1103 [==============================] - 287s 256ms/step - loss: 0.9822 - accuracy: 0.5866 - val_loss: 0.7756 - val_accuracy: 0.6873\n",
            "Epoch 2/5\n",
            "1103/1103 [==============================] - 267s 242ms/step - loss: 0.6966 - accuracy: 0.7393 - val_loss: 0.3324 - val_accuracy: 0.9143\n",
            "Epoch 3/5\n",
            "1103/1103 [==============================] - 281s 254ms/step - loss: 0.2116 - accuracy: 0.9467 - val_loss: 0.1626 - val_accuracy: 0.9613\n",
            "Epoch 4/5\n",
            "1103/1103 [==============================] - 279s 253ms/step - loss: 0.0947 - accuracy: 0.9790 - val_loss: 0.1312 - val_accuracy: 0.9703\n",
            "Epoch 5/5\n",
            "1103/1103 [==============================] - 278s 252ms/step - loss: 0.0642 - accuracy: 0.9861 - val_loss: 0.1294 - val_accuracy: 0.9715\n"
          ]
        }
      ]
    },
    {
      "cell_type": "markdown",
      "source": [
        "## Gru Model"
      ],
      "metadata": {
        "id": "MZo64VdBJmzH"
      }
    },
    {
      "cell_type": "code",
      "source": [
        "embedding_gru = layers.Embedding(input_dim = 30000,\n",
        "                                 output_dim = 128,\n",
        "                                 input_length = 114,\n",
        "                                 embeddings_initializer = 'uniform',\n",
        "                                 name = 'embedding_gru')\n",
        "input = layers.Input(shape = (1,), dtype = 'string', name = 'input_layer')\n",
        "x = text_vectorize(input)\n",
        "x = embedding_gru(x)\n",
        "x = layers.GRU(64, return_sequences = True)(x)\n",
        "x = layers.GRU(64)(x)\n",
        "x = layers.Dense(32, activation = 'relu')(x)\n",
        "output = layers.Dense(4, 'softmax', name = 'output_layer')(x)\n",
        "model_5 = tf.keras.Model(input, output, name = 'model_5_gru')\n",
        "\n",
        "model_5.compile(loss = 'sparse_categorical_crossentropy',\n",
        "                optimizer = 'Adam',\n",
        "                metrics = ['accuracy'])"
      ],
      "metadata": {
        "id": "RoYDnupLDhH3"
      },
      "execution_count": null,
      "outputs": []
    },
    {
      "cell_type": "code",
      "source": [
        "model_5.summary()"
      ],
      "metadata": {
        "colab": {
          "base_uri": "https://localhost:8080/"
        },
        "id": "MHbvRCAJLQSh",
        "outputId": "569e0cea-7c9a-428f-ee93-f9f3dd2e81f1"
      },
      "execution_count": null,
      "outputs": [
        {
          "output_type": "stream",
          "name": "stdout",
          "text": [
            "Model: \"model_5_gru\"\n",
            "_________________________________________________________________\n",
            " Layer (type)                Output Shape              Param #   \n",
            "=================================================================\n",
            " input_layer (InputLayer)    [(None, 1)]               0         \n",
            "                                                                 \n",
            " text_vectorization (TextVe  (None, 114)               0         \n",
            " ctorization)                                                    \n",
            "                                                                 \n",
            " embedding_gru (Embedding)   (None, 114, 128)          3840000   \n",
            "                                                                 \n",
            " gru (GRU)                   (None, 114, 64)           37248     \n",
            "                                                                 \n",
            " gru_1 (GRU)                 (None, 64)                24960     \n",
            "                                                                 \n",
            " dense_24 (Dense)            (None, 32)                2080      \n",
            "                                                                 \n",
            " output_layer (Dense)        (None, 4)                 132       \n",
            "                                                                 \n",
            "=================================================================\n",
            "Total params: 3904420 (14.89 MB)\n",
            "Trainable params: 3904420 (14.89 MB)\n",
            "Non-trainable params: 0 (0.00 Byte)\n",
            "_________________________________________________________________\n"
          ]
        }
      ]
    },
    {
      "cell_type": "code",
      "source": [
        "model_5.fit(x_train,\n",
        "            y_train,\n",
        "            validation_data = (x_test, y_test),\n",
        "            epochs = 5,\n",
        "            callbacks = [tensorboard_callbacks('NLP_text_classification', 'GRU')])"
      ],
      "metadata": {
        "colab": {
          "base_uri": "https://localhost:8080/"
        },
        "id": "mGfdQ849LkGd",
        "outputId": "11a2143e-4aee-4fd6-e300-790573685b02"
      },
      "execution_count": null,
      "outputs": [
        {
          "output_type": "stream",
          "name": "stdout",
          "text": [
            "Epoch 1/5\n",
            "1103/1103 [==============================] - 256s 227ms/step - loss: 0.5557 - accuracy: 0.7905 - val_loss: 0.1701 - val_accuracy: 0.9555\n",
            "Epoch 2/5\n",
            "1103/1103 [==============================] - 246s 223ms/step - loss: 0.0973 - accuracy: 0.9741 - val_loss: 0.1194 - val_accuracy: 0.9658\n",
            "Epoch 3/5\n",
            "1103/1103 [==============================] - 250s 227ms/step - loss: 0.0372 - accuracy: 0.9909 - val_loss: 0.1195 - val_accuracy: 0.9714\n",
            "Epoch 4/5\n",
            "1103/1103 [==============================] - 247s 224ms/step - loss: 0.0216 - accuracy: 0.9944 - val_loss: 0.1204 - val_accuracy: 0.9745\n",
            "Epoch 5/5\n",
            "1103/1103 [==============================] - 249s 225ms/step - loss: 0.0150 - accuracy: 0.9961 - val_loss: 0.1424 - val_accuracy: 0.9706\n"
          ]
        },
        {
          "output_type": "execute_result",
          "data": {
            "text/plain": [
              "<keras.src.callbacks.History at 0x7f180c147880>"
            ]
          },
          "metadata": {},
          "execution_count": 97
        }
      ]
    },
    {
      "cell_type": "code",
      "source": [
        "!tensorboard dev upload --logdir ./NLP_text_classification \\\n",
        "  --name 'NLP Classification experiment' \\\n",
        "  --description 'A Series of different model experiment' \\\n",
        "  --one_shot"
      ],
      "metadata": {
        "colab": {
          "base_uri": "https://localhost:8080/"
        },
        "id": "rsKfOnlDMSFj",
        "outputId": "5685bd97-f173-45a1-932b-f30e6dc1dcde"
      },
      "execution_count": null,
      "outputs": [
        {
          "output_type": "stream",
          "name": "stdout",
          "text": [
            "2023-10-26 06:04:00.235724: E tensorflow/compiler/xla/stream_executor/cuda/cuda_dnn.cc:9342] Unable to register cuDNN factory: Attempting to register factory for plugin cuDNN when one has already been registered\n",
            "2023-10-26 06:04:00.235835: E tensorflow/compiler/xla/stream_executor/cuda/cuda_fft.cc:609] Unable to register cuFFT factory: Attempting to register factory for plugin cuFFT when one has already been registered\n",
            "2023-10-26 06:04:00.236041: E tensorflow/compiler/xla/stream_executor/cuda/cuda_blas.cc:1518] Unable to register cuBLAS factory: Attempting to register factory for plugin cuBLAS when one has already been registered\n",
            "2023-10-26 06:04:02.676541: W tensorflow/compiler/tf2tensorrt/utils/py_utils.cc:38] TF-TRT Warning: Could not find TensorRT\n",
            "\n",
            "***** TensorBoard Uploader *****\n",
            "\n",
            "This will upload your TensorBoard logs to https://tensorboard.dev/ from\n",
            "the following directory:\n",
            "\n",
            "./NLP_text_classification\n",
            "\n",
            "This TensorBoard will be visible to everyone. Do not upload sensitive\n",
            "data.\n",
            "\n",
            "Your use of this service is subject to Google's Terms of Service\n",
            "<https://policies.google.com/terms> and Privacy Policy\n",
            "<https://policies.google.com/privacy>, and TensorBoard.dev's Terms of Service\n",
            "<https://tensorboard.dev/policy/terms/>.\n",
            "\n",
            "This notice will not be shown again while you are logged into the uploader.\n",
            "To log out, run `tensorboard dev auth revoke`.\n",
            "\n",
            "Continue? (yes/NO) yes\n",
            "\n",
            "To sign in with the TensorBoard uploader:\n",
            "\n",
            "1. On your computer or phone, visit:\n",
            "\n",
            "   https://www.google.com/device\n",
            "\n",
            "2. Sign in with your Google account, then enter:\n",
            "\n",
            "   FYBW-PRRQ\n",
            "\n",
            "\n",
            "\n",
            "****************************************************************\n",
            "****************************************************************\n",
            "****************************************************************\n",
            "\n",
            "NOTICE - ACTION REQUIRED: TensorBoard.dev is shutting down.\n",
            "\n",
            "Please export your experiments by Dec 31, 2023.\n",
            "\n",
            "See the FAQ at https://tensorboard.dev.\n",
            "\n",
            "****************************************************************\n",
            "****************************************************************\n",
            "****************************************************************\n",
            "\n",
            "\n",
            "New experiment created. View your TensorBoard at: https://tensorboard.dev/experiment/P8QaVwU0RqqCEjxPvViyXg/\n",
            "\n",
            "\u001b[1m[2023-10-26T06:05:16]\u001b[0m Started scanning logdir.\n",
            "\u001b[1m[2023-10-26T06:05:32]\u001b[0m Total uploaded: 156 scalars, 0 tensors, 12 binary objects (2.7 MB)\n",
            "\u001b[1m[2023-10-26T06:05:32]\u001b[0m Done scanning logdir.\n",
            "\n",
            "\n",
            "Done. View your TensorBoard at https://tensorboard.dev/experiment/P8QaVwU0RqqCEjxPvViyXg/\n"
          ]
        }
      ]
    },
    {
      "cell_type": "code",
      "source": [
        "!tensorboard dev list"
      ],
      "metadata": {
        "colab": {
          "base_uri": "https://localhost:8080/"
        },
        "id": "wfDM4vfflIDc",
        "outputId": "0bf82842-86fc-4786-83e7-ff0fa2f305d7"
      },
      "execution_count": null,
      "outputs": [
        {
          "output_type": "stream",
          "name": "stdout",
          "text": [
            "2023-10-26 06:07:04.025407: E tensorflow/compiler/xla/stream_executor/cuda/cuda_dnn.cc:9342] Unable to register cuDNN factory: Attempting to register factory for plugin cuDNN when one has already been registered\n",
            "2023-10-26 06:07:04.025485: E tensorflow/compiler/xla/stream_executor/cuda/cuda_fft.cc:609] Unable to register cuFFT factory: Attempting to register factory for plugin cuFFT when one has already been registered\n",
            "2023-10-26 06:07:04.025518: E tensorflow/compiler/xla/stream_executor/cuda/cuda_blas.cc:1518] Unable to register cuBLAS factory: Attempting to register factory for plugin cuBLAS when one has already been registered\n",
            "2023-10-26 06:07:05.363944: W tensorflow/compiler/tf2tensorrt/utils/py_utils.cc:38] TF-TRT Warning: Could not find TensorRT\n",
            "\n",
            "****************************************************************\n",
            "****************************************************************\n",
            "****************************************************************\n",
            "\n",
            "NOTICE - ACTION REQUIRED: TensorBoard.dev is shutting down.\n",
            "\n",
            "Please export your experiments by Dec 31, 2023.\n",
            "\n",
            "See the FAQ at https://tensorboard.dev.\n",
            "\n",
            "****************************************************************\n",
            "****************************************************************\n",
            "****************************************************************\n",
            "\n",
            "https://tensorboard.dev/experiment/P8QaVwU0RqqCEjxPvViyXg/\n",
            "\tName                 NLP Classification experiment\n",
            "\tDescription          A Series of different model experiment\n",
            "\tId                   P8QaVwU0RqqCEjxPvViyXg\n",
            "\tCreated              2023-10-26 06:05:16 (1 minute ago)\n",
            "\tUpdated              2023-10-26 06:05:32 (1 minute ago)\n",
            "\tRuns                 18\n",
            "\tTags                 5\n",
            "\tScalars              156\n",
            "\tTensor bytes         0\n",
            "\tBinary object bytes  2841653\n",
            "https://tensorboard.dev/experiment/zT6Jxjw7TQGRXMpszAzNTg/\n",
            "\tName                 Transfer learning experiments\n",
            "\tDescription          Transfer learning experiment with varying different model type and Fine Tuning\n",
            "\tId                   zT6Jxjw7TQGRXMpszAzNTg\n",
            "\tCreated              2023-10-18 04:47:20\n",
            "\tUpdated              2023-10-18 04:47:26\n",
            "\tRuns                 12\n",
            "\tTags                 5\n",
            "\tScalars              198\n",
            "\tTensor bytes         0\n",
            "\tBinary object bytes  9403100\n",
            "https://tensorboard.dev/experiment/XYqcAQodQDC2iaKDVFEfyA/\n",
            "\tName                 EfficientNetV2B0\n",
            "\tDescription          Monitoring EfficientNetV2B0\n",
            "\tId                   XYqcAQodQDC2iaKDVFEfyA\n",
            "\tCreated              2023-10-06 07:58:49\n",
            "\tUpdated              2023-10-06 07:58:50\n",
            "\tRuns                 2\n",
            "\tTags                 5\n",
            "\tScalars              30\n",
            "\tTensor bytes         0\n",
            "\tBinary object bytes  1013507\n",
            "https://tensorboard.dev/experiment/M2T1eBE1SEOpSEBcdLkogA/\n",
            "\tName                 EfficientNetV2B0\n",
            "\tDescription          Monitoring EfficientNetV2B0\n",
            "\tId                   M2T1eBE1SEOpSEBcdLkogA\n",
            "\tCreated              2023-10-06 07:32:26\n",
            "\tUpdated              2023-10-06 07:32:27\n",
            "\tRuns                 2\n",
            "\tTags                 5\n",
            "\tScalars              30\n",
            "\tTensor bytes         0\n",
            "\tBinary object bytes  1013507\n",
            "https://tensorboard.dev/experiment/Zrh2X9WRSqirBMxNwF7DHw/\n",
            "\tName                 EfficientNetV2B0\n",
            "\tDescription          Monitoring EfficientNetV2B0\n",
            "\tId                   Zrh2X9WRSqirBMxNwF7DHw\n",
            "\tCreated              2023-10-06 07:30:51\n",
            "\tUpdated              2023-10-06 07:30:52\n",
            "\tRuns                 2\n",
            "\tTags                 5\n",
            "\tScalars              30\n",
            "\tTensor bytes         0\n",
            "\tBinary object bytes  1013507\n",
            "https://tensorboard.dev/experiment/tvNCBQpnQZSBVjnV8clMpA/\n",
            "\tName                 EfficientNetB0 vs. MobileVNet\n",
            "\tDescription          Comparing two different TF Hub feature extraction models architectures using 10% of training images\n",
            "\tId                   tvNCBQpnQZSBVjnV8clMpA\n",
            "\tCreated              2023-10-03 03:22:27\n",
            "\tUpdated              2023-10-03 03:22:33\n",
            "\tRuns                 12\n",
            "\tTags                 5\n",
            "\tScalars              180\n",
            "\tTensor bytes         0\n",
            "\tBinary object bytes  13694367\n",
            "Total: 6 experiment(s)\n"
          ]
        }
      ]
    },
    {
      "cell_type": "code",
      "source": [
        "df.head()"
      ],
      "metadata": {
        "colab": {
          "base_uri": "https://localhost:8080/",
          "height": 293
        },
        "id": "SyAdecHcl70w",
        "outputId": "cc7b5f0f-c145-4de0-96b5-dbec753625ae"
      },
      "execution_count": null,
      "outputs": [
        {
          "output_type": "execute_result",
          "data": {
            "text/plain": [
              "       label                                               text  label_encode  \\\n",
              "0  Household  Paper Plane Design Framed Wall Hanging Motivat...             3   \n",
              "1  Household  SAF 'Floral' Framed Painting (Wood, 30 inch x ...             3   \n",
              "2  Household  SAF 'UV Textured Modern Art Print Framed' Pain...             3   \n",
              "3  Household  SAF Flower Print Framed Painting (Synthetic, 1...             3   \n",
              "4  Household  Incredible Gifts India Wooden Happy Birthday U...             3   \n",
              "\n",
              "                                          clean_text  \n",
              "0  paper plane design framed wall hanging motivat...  \n",
              "1  saf floral framed painting (wood 30 inch x 10 ...  \n",
              "2  saf uv textured modern art print framed painti...  \n",
              "3  saf flower print framed painting (synthetic 13...  \n",
              "4  incredible gifts india wooden happy birthday u...  "
            ],
            "text/html": [
              "\n",
              "  <div id=\"df-a3754bca-b6fb-47f4-b55c-9718c6dc6e90\" class=\"colab-df-container\">\n",
              "    <div>\n",
              "<style scoped>\n",
              "    .dataframe tbody tr th:only-of-type {\n",
              "        vertical-align: middle;\n",
              "    }\n",
              "\n",
              "    .dataframe tbody tr th {\n",
              "        vertical-align: top;\n",
              "    }\n",
              "\n",
              "    .dataframe thead th {\n",
              "        text-align: right;\n",
              "    }\n",
              "</style>\n",
              "<table border=\"1\" class=\"dataframe\">\n",
              "  <thead>\n",
              "    <tr style=\"text-align: right;\">\n",
              "      <th></th>\n",
              "      <th>label</th>\n",
              "      <th>text</th>\n",
              "      <th>label_encode</th>\n",
              "      <th>clean_text</th>\n",
              "    </tr>\n",
              "  </thead>\n",
              "  <tbody>\n",
              "    <tr>\n",
              "      <th>0</th>\n",
              "      <td>Household</td>\n",
              "      <td>Paper Plane Design Framed Wall Hanging Motivat...</td>\n",
              "      <td>3</td>\n",
              "      <td>paper plane design framed wall hanging motivat...</td>\n",
              "    </tr>\n",
              "    <tr>\n",
              "      <th>1</th>\n",
              "      <td>Household</td>\n",
              "      <td>SAF 'Floral' Framed Painting (Wood, 30 inch x ...</td>\n",
              "      <td>3</td>\n",
              "      <td>saf floral framed painting (wood 30 inch x 10 ...</td>\n",
              "    </tr>\n",
              "    <tr>\n",
              "      <th>2</th>\n",
              "      <td>Household</td>\n",
              "      <td>SAF 'UV Textured Modern Art Print Framed' Pain...</td>\n",
              "      <td>3</td>\n",
              "      <td>saf uv textured modern art print framed painti...</td>\n",
              "    </tr>\n",
              "    <tr>\n",
              "      <th>3</th>\n",
              "      <td>Household</td>\n",
              "      <td>SAF Flower Print Framed Painting (Synthetic, 1...</td>\n",
              "      <td>3</td>\n",
              "      <td>saf flower print framed painting (synthetic 13...</td>\n",
              "    </tr>\n",
              "    <tr>\n",
              "      <th>4</th>\n",
              "      <td>Household</td>\n",
              "      <td>Incredible Gifts India Wooden Happy Birthday U...</td>\n",
              "      <td>3</td>\n",
              "      <td>incredible gifts india wooden happy birthday u...</td>\n",
              "    </tr>\n",
              "  </tbody>\n",
              "</table>\n",
              "</div>\n",
              "    <div class=\"colab-df-buttons\">\n",
              "\n",
              "  <div class=\"colab-df-container\">\n",
              "    <button class=\"colab-df-convert\" onclick=\"convertToInteractive('df-a3754bca-b6fb-47f4-b55c-9718c6dc6e90')\"\n",
              "            title=\"Convert this dataframe to an interactive table.\"\n",
              "            style=\"display:none;\">\n",
              "\n",
              "  <svg xmlns=\"http://www.w3.org/2000/svg\" height=\"24px\" viewBox=\"0 -960 960 960\">\n",
              "    <path d=\"M120-120v-720h720v720H120Zm60-500h600v-160H180v160Zm220 220h160v-160H400v160Zm0 220h160v-160H400v160ZM180-400h160v-160H180v160Zm440 0h160v-160H620v160ZM180-180h160v-160H180v160Zm440 0h160v-160H620v160Z\"/>\n",
              "  </svg>\n",
              "    </button>\n",
              "\n",
              "  <style>\n",
              "    .colab-df-container {\n",
              "      display:flex;\n",
              "      gap: 12px;\n",
              "    }\n",
              "\n",
              "    .colab-df-convert {\n",
              "      background-color: #E8F0FE;\n",
              "      border: none;\n",
              "      border-radius: 50%;\n",
              "      cursor: pointer;\n",
              "      display: none;\n",
              "      fill: #1967D2;\n",
              "      height: 32px;\n",
              "      padding: 0 0 0 0;\n",
              "      width: 32px;\n",
              "    }\n",
              "\n",
              "    .colab-df-convert:hover {\n",
              "      background-color: #E2EBFA;\n",
              "      box-shadow: 0px 1px 2px rgba(60, 64, 67, 0.3), 0px 1px 3px 1px rgba(60, 64, 67, 0.15);\n",
              "      fill: #174EA6;\n",
              "    }\n",
              "\n",
              "    .colab-df-buttons div {\n",
              "      margin-bottom: 4px;\n",
              "    }\n",
              "\n",
              "    [theme=dark] .colab-df-convert {\n",
              "      background-color: #3B4455;\n",
              "      fill: #D2E3FC;\n",
              "    }\n",
              "\n",
              "    [theme=dark] .colab-df-convert:hover {\n",
              "      background-color: #434B5C;\n",
              "      box-shadow: 0px 1px 3px 1px rgba(0, 0, 0, 0.15);\n",
              "      filter: drop-shadow(0px 1px 2px rgba(0, 0, 0, 0.3));\n",
              "      fill: #FFFFFF;\n",
              "    }\n",
              "  </style>\n",
              "\n",
              "    <script>\n",
              "      const buttonEl =\n",
              "        document.querySelector('#df-a3754bca-b6fb-47f4-b55c-9718c6dc6e90 button.colab-df-convert');\n",
              "      buttonEl.style.display =\n",
              "        google.colab.kernel.accessAllowed ? 'block' : 'none';\n",
              "\n",
              "      async function convertToInteractive(key) {\n",
              "        const element = document.querySelector('#df-a3754bca-b6fb-47f4-b55c-9718c6dc6e90');\n",
              "        const dataTable =\n",
              "          await google.colab.kernel.invokeFunction('convertToInteractive',\n",
              "                                                    [key], {});\n",
              "        if (!dataTable) return;\n",
              "\n",
              "        const docLinkHtml = 'Like what you see? Visit the ' +\n",
              "          '<a target=\"_blank\" href=https://colab.research.google.com/notebooks/data_table.ipynb>data table notebook</a>'\n",
              "          + ' to learn more about interactive tables.';\n",
              "        element.innerHTML = '';\n",
              "        dataTable['output_type'] = 'display_data';\n",
              "        await google.colab.output.renderOutput(dataTable, element);\n",
              "        const docLink = document.createElement('div');\n",
              "        docLink.innerHTML = docLinkHtml;\n",
              "        element.appendChild(docLink);\n",
              "      }\n",
              "    </script>\n",
              "  </div>\n",
              "\n",
              "\n",
              "<div id=\"df-a350b726-2a5c-47ac-a641-7fa533cbee90\">\n",
              "  <button class=\"colab-df-quickchart\" onclick=\"quickchart('df-a350b726-2a5c-47ac-a641-7fa533cbee90')\"\n",
              "            title=\"Suggest charts.\"\n",
              "            style=\"display:none;\">\n",
              "\n",
              "<svg xmlns=\"http://www.w3.org/2000/svg\" height=\"24px\"viewBox=\"0 0 24 24\"\n",
              "     width=\"24px\">\n",
              "    <g>\n",
              "        <path d=\"M19 3H5c-1.1 0-2 .9-2 2v14c0 1.1.9 2 2 2h14c1.1 0 2-.9 2-2V5c0-1.1-.9-2-2-2zM9 17H7v-7h2v7zm4 0h-2V7h2v10zm4 0h-2v-4h2v4z\"/>\n",
              "    </g>\n",
              "</svg>\n",
              "  </button>\n",
              "\n",
              "<style>\n",
              "  .colab-df-quickchart {\n",
              "      --bg-color: #E8F0FE;\n",
              "      --fill-color: #1967D2;\n",
              "      --hover-bg-color: #E2EBFA;\n",
              "      --hover-fill-color: #174EA6;\n",
              "      --disabled-fill-color: #AAA;\n",
              "      --disabled-bg-color: #DDD;\n",
              "  }\n",
              "\n",
              "  [theme=dark] .colab-df-quickchart {\n",
              "      --bg-color: #3B4455;\n",
              "      --fill-color: #D2E3FC;\n",
              "      --hover-bg-color: #434B5C;\n",
              "      --hover-fill-color: #FFFFFF;\n",
              "      --disabled-bg-color: #3B4455;\n",
              "      --disabled-fill-color: #666;\n",
              "  }\n",
              "\n",
              "  .colab-df-quickchart {\n",
              "    background-color: var(--bg-color);\n",
              "    border: none;\n",
              "    border-radius: 50%;\n",
              "    cursor: pointer;\n",
              "    display: none;\n",
              "    fill: var(--fill-color);\n",
              "    height: 32px;\n",
              "    padding: 0;\n",
              "    width: 32px;\n",
              "  }\n",
              "\n",
              "  .colab-df-quickchart:hover {\n",
              "    background-color: var(--hover-bg-color);\n",
              "    box-shadow: 0 1px 2px rgba(60, 64, 67, 0.3), 0 1px 3px 1px rgba(60, 64, 67, 0.15);\n",
              "    fill: var(--button-hover-fill-color);\n",
              "  }\n",
              "\n",
              "  .colab-df-quickchart-complete:disabled,\n",
              "  .colab-df-quickchart-complete:disabled:hover {\n",
              "    background-color: var(--disabled-bg-color);\n",
              "    fill: var(--disabled-fill-color);\n",
              "    box-shadow: none;\n",
              "  }\n",
              "\n",
              "  .colab-df-spinner {\n",
              "    border: 2px solid var(--fill-color);\n",
              "    border-color: transparent;\n",
              "    border-bottom-color: var(--fill-color);\n",
              "    animation:\n",
              "      spin 1s steps(1) infinite;\n",
              "  }\n",
              "\n",
              "  @keyframes spin {\n",
              "    0% {\n",
              "      border-color: transparent;\n",
              "      border-bottom-color: var(--fill-color);\n",
              "      border-left-color: var(--fill-color);\n",
              "    }\n",
              "    20% {\n",
              "      border-color: transparent;\n",
              "      border-left-color: var(--fill-color);\n",
              "      border-top-color: var(--fill-color);\n",
              "    }\n",
              "    30% {\n",
              "      border-color: transparent;\n",
              "      border-left-color: var(--fill-color);\n",
              "      border-top-color: var(--fill-color);\n",
              "      border-right-color: var(--fill-color);\n",
              "    }\n",
              "    40% {\n",
              "      border-color: transparent;\n",
              "      border-right-color: var(--fill-color);\n",
              "      border-top-color: var(--fill-color);\n",
              "    }\n",
              "    60% {\n",
              "      border-color: transparent;\n",
              "      border-right-color: var(--fill-color);\n",
              "    }\n",
              "    80% {\n",
              "      border-color: transparent;\n",
              "      border-right-color: var(--fill-color);\n",
              "      border-bottom-color: var(--fill-color);\n",
              "    }\n",
              "    90% {\n",
              "      border-color: transparent;\n",
              "      border-bottom-color: var(--fill-color);\n",
              "    }\n",
              "  }\n",
              "</style>\n",
              "\n",
              "  <script>\n",
              "    async function quickchart(key) {\n",
              "      const quickchartButtonEl =\n",
              "        document.querySelector('#' + key + ' button');\n",
              "      quickchartButtonEl.disabled = true;  // To prevent multiple clicks.\n",
              "      quickchartButtonEl.classList.add('colab-df-spinner');\n",
              "      try {\n",
              "        const charts = await google.colab.kernel.invokeFunction(\n",
              "            'suggestCharts', [key], {});\n",
              "      } catch (error) {\n",
              "        console.error('Error during call to suggestCharts:', error);\n",
              "      }\n",
              "      quickchartButtonEl.classList.remove('colab-df-spinner');\n",
              "      quickchartButtonEl.classList.add('colab-df-quickchart-complete');\n",
              "    }\n",
              "    (() => {\n",
              "      let quickchartButtonEl =\n",
              "        document.querySelector('#df-a350b726-2a5c-47ac-a641-7fa533cbee90 button');\n",
              "      quickchartButtonEl.style.display =\n",
              "        google.colab.kernel.accessAllowed ? 'block' : 'none';\n",
              "    })();\n",
              "  </script>\n",
              "</div>\n",
              "    </div>\n",
              "  </div>\n"
            ]
          },
          "metadata": {},
          "execution_count": 136
        }
      ]
    },
    {
      "cell_type": "code",
      "source": [
        "df['label'].unique()"
      ],
      "metadata": {
        "id": "6bpZvMVynk4Z",
        "outputId": "ec8fce22-5846-4206-d0f9-2c3dded7b78f",
        "colab": {
          "base_uri": "https://localhost:8080/"
        }
      },
      "execution_count": null,
      "outputs": [
        {
          "output_type": "execute_result",
          "data": {
            "text/plain": [
              "array(['Household', 'Books', 'Clothing & Accessories', 'Electronics'],\n",
              "      dtype=object)"
            ]
          },
          "metadata": {},
          "execution_count": 137
        }
      ]
    },
    {
      "cell_type": "code",
      "source": [],
      "metadata": {
        "id": "7eSViwDlnoHv"
      },
      "execution_count": null,
      "outputs": []
    }
  ]
}